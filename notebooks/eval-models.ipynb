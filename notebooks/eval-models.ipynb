{
 "cells": [
  {
   "cell_type": "code",
   "execution_count": 53,
   "id": "d93c3b9e",
   "metadata": {},
   "outputs": [],
   "source": [
    "import logging\n",
    "from itertools import combinations_with_replacement\n",
    "from typing import Any, Dict, List\n",
    "\n",
    "\n",
    "import numpy as np\n",
    "from sklearn.decomposition import PCA\n",
    "from sklearn.ensemble import RandomForestRegressor, VotingClassifier\n",
    "from sklearn.linear_model import Ridge\n",
    "from sklearn.metrics import accuracy_score, classification_report, roc_auc_score, roc_curve\n",
    "from sklearn.model_selection import GridSearchCV\n",
    "from sklearn.pipeline import Pipeline\n",
    "from sklearn.preprocessing import PolynomialFeatures, RobustScaler\n",
    "import matplotlib.pyplot as plt\n",
    "\n",
    "from nba_betting.logging.tools import logger\n",
    "from nba_betting.model.classes import NBA_MODELS\n",
    "from nba_betting.model.training import preprocess_games\n",
    "from nba_betting.model.unsupervised_ensemble import UnsupervisedEnsemble\n",
    "from nba_betting.analysis.visualization import plot_conf_mat"
   ]
  },
  {
   "cell_type": "code",
   "execution_count": 2,
   "id": "f3464326",
   "metadata": {},
   "outputs": [
    {
     "name": "stderr",
     "output_type": "stream",
     "text": [
      "INFO:nba_betting:Processing data for year 2018\n",
      "INFO:root:Getting game data...\n",
      "INFO:root:Creating matchups...\n",
      "INFO:root:Done creating matchups.\n",
      "INFO:nba_betting:Retrieved data for year 2018.\n",
      "Columns: Index(['level_0', 'index', 'PTS', 'FGM', 'FGA', 'FG_PCT', 'FG3M', 'FG3A',\n",
      "       'FG3_PCT', 'FTM', 'FTA', 'FT_PCT', 'OREB', 'DREB', 'REB', 'AST', 'STL',\n",
      "       'BLK', 'TOV', 'PF', 'PLUS_MINUS', 'GAMES_PLAYED', 'ALLOWED_PTS',\n",
      "       'ALLOWED_FGM', 'ALLOWED_FGA', 'ALLOWED_FG_PCT', 'ALLOWED_FG3M',\n",
      "       'ALLOWED_FG3A', 'ALLOWED_FG3_PCT', 'ALLOWED_FTM', 'ALLOWED_FTA',\n",
      "       'ALLOWED_FT_PCT', 'ALLOWED_OREB', 'ALLOWED_DREB', 'ALLOWED_REB',\n",
      "       'ALLOWED_AST', 'ALLOWED_STL', 'ALLOWED_BLK', 'ALLOWED_TOV',\n",
      "       'ALLOWED_PF', 'ALLOWED_PLUS_MINUS', 'ALLOWED_GAMES_PLAYED', 'OPP_PTS',\n",
      "       'OPP_FGM', 'OPP_FGA', 'OPP_FG_PCT', 'OPP_FG3M', 'OPP_FG3A',\n",
      "       'OPP_FG3_PCT', 'OPP_FTM', 'OPP_FTA', 'OPP_FT_PCT', 'OPP_OREB',\n",
      "       'OPP_DREB', 'OPP_REB', 'OPP_AST', 'OPP_STL', 'OPP_BLK', 'OPP_TOV',\n",
      "       'OPP_PF', 'OPP_PLUS_MINUS', 'OPP_GAMES_PLAYED', 'OPP_ALLOWED_PTS',\n",
      "       'OPP_ALLOWED_FGM', 'OPP_ALLOWED_FGA', 'OPP_ALLOWED_FG_PCT',\n",
      "       'OPP_ALLOWED_FG3M', 'OPP_ALLOWED_FG3A', 'OPP_ALLOWED_FG3_PCT',\n",
      "       'OPP_ALLOWED_FTM', 'OPP_ALLOWED_FTA', 'OPP_ALLOWED_FT_PCT',\n",
      "       'OPP_ALLOWED_OREB', 'OPP_ALLOWED_DREB', 'OPP_ALLOWED_REB',\n",
      "       'OPP_ALLOWED_AST', 'OPP_ALLOWED_STL', 'OPP_ALLOWED_BLK',\n",
      "       'OPP_ALLOWED_TOV', 'OPP_ALLOWED_PF', 'OPP_ALLOWED_PLUS_MINUS',\n",
      "       'OPP_ALLOWED_GAMES_PLAYED'],\n",
      "      dtype='object')\n",
      "Target: 0    L\n",
      "1    L\n",
      "2    W\n",
      "3    W\n",
      "4    L\n",
      "Name: WL, dtype: object\n",
      "INFO:nba_betting:Processing data for year 2019\n",
      "INFO:root:Getting game data...\n",
      "INFO:root:Creating matchups...\n",
      "INFO:root:Done creating matchups.\n",
      "INFO:nba_betting:Retrieved data for year 2019.\n",
      "Columns: Index(['level_0', 'index', 'PTS', 'FGM', 'FGA', 'FG_PCT', 'FG3M', 'FG3A',\n",
      "       'FG3_PCT', 'FTM', 'FTA', 'FT_PCT', 'OREB', 'DREB', 'REB', 'AST', 'STL',\n",
      "       'BLK', 'TOV', 'PF', 'PLUS_MINUS', 'GAMES_PLAYED', 'ALLOWED_PTS',\n",
      "       'ALLOWED_FGM', 'ALLOWED_FGA', 'ALLOWED_FG_PCT', 'ALLOWED_FG3M',\n",
      "       'ALLOWED_FG3A', 'ALLOWED_FG3_PCT', 'ALLOWED_FTM', 'ALLOWED_FTA',\n",
      "       'ALLOWED_FT_PCT', 'ALLOWED_OREB', 'ALLOWED_DREB', 'ALLOWED_REB',\n",
      "       'ALLOWED_AST', 'ALLOWED_STL', 'ALLOWED_BLK', 'ALLOWED_TOV',\n",
      "       'ALLOWED_PF', 'ALLOWED_PLUS_MINUS', 'ALLOWED_GAMES_PLAYED', 'OPP_PTS',\n",
      "       'OPP_FGM', 'OPP_FGA', 'OPP_FG_PCT', 'OPP_FG3M', 'OPP_FG3A',\n",
      "       'OPP_FG3_PCT', 'OPP_FTM', 'OPP_FTA', 'OPP_FT_PCT', 'OPP_OREB',\n",
      "       'OPP_DREB', 'OPP_REB', 'OPP_AST', 'OPP_STL', 'OPP_BLK', 'OPP_TOV',\n",
      "       'OPP_PF', 'OPP_PLUS_MINUS', 'OPP_GAMES_PLAYED', 'OPP_ALLOWED_PTS',\n",
      "       'OPP_ALLOWED_FGM', 'OPP_ALLOWED_FGA', 'OPP_ALLOWED_FG_PCT',\n",
      "       'OPP_ALLOWED_FG3M', 'OPP_ALLOWED_FG3A', 'OPP_ALLOWED_FG3_PCT',\n",
      "       'OPP_ALLOWED_FTM', 'OPP_ALLOWED_FTA', 'OPP_ALLOWED_FT_PCT',\n",
      "       'OPP_ALLOWED_OREB', 'OPP_ALLOWED_DREB', 'OPP_ALLOWED_REB',\n",
      "       'OPP_ALLOWED_AST', 'OPP_ALLOWED_STL', 'OPP_ALLOWED_BLK',\n",
      "       'OPP_ALLOWED_TOV', 'OPP_ALLOWED_PF', 'OPP_ALLOWED_PLUS_MINUS',\n",
      "       'OPP_ALLOWED_GAMES_PLAYED'],\n",
      "      dtype='object')\n",
      "Target: 0    W\n",
      "1    W\n",
      "2    L\n",
      "3    L\n",
      "4    L\n",
      "Name: WL, dtype: object\n"
     ]
    }
   ],
   "source": [
    "# Hide DEBUG logging statements\n",
    "logger.setLevel(logging.INFO)\n",
    "\n",
    "# Split the dataset into train and test using 2018/2019 splits\n",
    "TRAIN_YEAR = 2018\n",
    "TEST_YEAR = 2019\n",
    "X_train, y_train = preprocess_games(TRAIN_YEAR)\n",
    "X_test, y_test = preprocess_games(TEST_YEAR)\n"
   ]
  },
  {
   "cell_type": "markdown",
   "id": "6cdcf4f3",
   "metadata": {},
   "source": [
    "# Plain Voting Classifier"
   ]
  },
  {
   "cell_type": "markdown",
   "id": "cc582297",
   "metadata": {},
   "source": [
    "### Train VotingClassifier"
   ]
  },
  {
   "cell_type": "code",
   "execution_count": 55,
   "id": "4ae19145",
   "metadata": {},
   "outputs": [
    {
     "name": "stderr",
     "output_type": "stream",
     "text": [
      "INFO:nba_betting:Training VotingClassifier with: ['defence_logistic_regression', 'offence_logistic_regression', 'efficiency_logistic_regression', 'general_logistic_regression', 'shooting_logistic_regression', 'defence_gaussian_naive_bayes', 'offence_gaussian_naive_bayes', 'efficiency_gaussian_naive_bayes', 'general_gaussian_naive_bayes', 'defence_random_forest', 'offence_random_forest', 'efficiency_random_forest']\n",
      "INFO:nba_betting:Using grid search wih params: {'weights': [(0.0, 0.0, 0.0, 0.0, 0.0, 0.0, 0.0, 0.2, 0.2, 0.2, 0.2, 0.2), (0.0, 0.0, 0.0, 0.1111111111111111, 0.1111111111111111, 0.1111111111111111, 0.1111111111111111, 0.1111111111111111, 0.1111111111111111, 0.1111111111111111, 0.1111111111111111, 0.1111111111111111), (0.0, 0.0, 0.0, 0.0, 0.125, 0.125, 0.125, 0.125, 0.125, 0.125, 0.125, 0.125), (0.08333333333333333, 0.08333333333333333, 0.08333333333333333, 0.08333333333333333, 0.08333333333333333, 0.08333333333333333, 0.08333333333333333, 0.08333333333333333, 0.08333333333333333, 0.08333333333333333, 0.08333333333333333, 0.08333333333333333), (0.0, 0.0, 0.1, 0.1, 0.1, 0.1, 0.1, 0.1, 0.1, 0.1, 0.1, 0.1), (0.0, 0.09090909090909091, 0.09090909090909091, 0.09090909090909091, 0.09090909090909091, 0.09090909090909091, 0.09090909090909091, 0.09090909090909091, 0.09090909090909091, 0.09090909090909091, 0.09090909090909091, 0.09090909090909091), (0.0, 0.0, 0.0, 0.0, 0.0, 0.0, 0.0, 0.0, 0.0, 0.0, 0.0, 1.0), (0.0, 0.0, 0.0, 0.0, 0.0, 0.0, 0.0, 0.0, 0.0, 0.0, 0.5, 0.5), (0.0, 0.0, 0.0, 0.0, 0.0, 0.0, 0.16666666666666666, 0.16666666666666666, 0.16666666666666666, 0.16666666666666666, 0.16666666666666666, 0.16666666666666666), (0.0, 0.0, 0.0, 0.0, 0.0, 0.14285714285714285, 0.14285714285714285, 0.14285714285714285, 0.14285714285714285, 0.14285714285714285, 0.14285714285714285, 0.14285714285714285), (0.0, 0.0, 0.0, 0.0, 0.0, 0.0, 0.0, 0.0, 0.0, 0.3333333333333333, 0.3333333333333333, 0.3333333333333333), (0.0, 0.0, 0.0, 0.0, 0.0, 0.0, 0.0, 0.0, 0.25, 0.25, 0.25, 0.25)]}\n",
      "/Users/Aaditya/git/ds4420_nba_betting/.venv/lib/python3.8/site-packages/sklearn/linear_model/_logistic.py:814: ConvergenceWarning: lbfgs failed to converge (status=1):\n",
      "STOP: TOTAL NO. of ITERATIONS REACHED LIMIT.\n",
      "\n",
      "Increase the number of iterations (max_iter) or scale the data as shown in:\n",
      "    https://scikit-learn.org/stable/modules/preprocessing.html\n",
      "Please also refer to the documentation for alternative solver options:\n",
      "    https://scikit-learn.org/stable/modules/linear_model.html#logistic-regression\n",
      "  n_iter_i = _check_optimize_result(\n",
      "/Users/Aaditya/git/ds4420_nba_betting/.venv/lib/python3.8/site-packages/sklearn/linear_model/_logistic.py:814: ConvergenceWarning: lbfgs failed to converge (status=1):\n",
      "STOP: TOTAL NO. of ITERATIONS REACHED LIMIT.\n",
      "\n",
      "Increase the number of iterations (max_iter) or scale the data as shown in:\n",
      "    https://scikit-learn.org/stable/modules/preprocessing.html\n",
      "Please also refer to the documentation for alternative solver options:\n",
      "    https://scikit-learn.org/stable/modules/linear_model.html#logistic-regression\n",
      "  n_iter_i = _check_optimize_result(\n",
      "/Users/Aaditya/git/ds4420_nba_betting/.venv/lib/python3.8/site-packages/sklearn/linear_model/_logistic.py:814: ConvergenceWarning: lbfgs failed to converge (status=1):\n",
      "STOP: TOTAL NO. of ITERATIONS REACHED LIMIT.\n",
      "\n",
      "Increase the number of iterations (max_iter) or scale the data as shown in:\n",
      "    https://scikit-learn.org/stable/modules/preprocessing.html\n",
      "Please also refer to the documentation for alternative solver options:\n",
      "    https://scikit-learn.org/stable/modules/linear_model.html#logistic-regression\n",
      "  n_iter_i = _check_optimize_result(\n",
      "/Users/Aaditya/git/ds4420_nba_betting/.venv/lib/python3.8/site-packages/sklearn/linear_model/_logistic.py:814: ConvergenceWarning: lbfgs failed to converge (status=1):\n",
      "STOP: TOTAL NO. of ITERATIONS REACHED LIMIT.\n",
      "\n",
      "Increase the number of iterations (max_iter) or scale the data as shown in:\n",
      "    https://scikit-learn.org/stable/modules/preprocessing.html\n",
      "Please also refer to the documentation for alternative solver options:\n",
      "    https://scikit-learn.org/stable/modules/linear_model.html#logistic-regression\n",
      "  n_iter_i = _check_optimize_result(\n",
      "/Users/Aaditya/git/ds4420_nba_betting/.venv/lib/python3.8/site-packages/sklearn/linear_model/_logistic.py:814: ConvergenceWarning: lbfgs failed to converge (status=1):\n",
      "STOP: TOTAL NO. of ITERATIONS REACHED LIMIT.\n",
      "\n",
      "Increase the number of iterations (max_iter) or scale the data as shown in:\n",
      "    https://scikit-learn.org/stable/modules/preprocessing.html\n",
      "Please also refer to the documentation for alternative solver options:\n",
      "    https://scikit-learn.org/stable/modules/linear_model.html#logistic-regression\n",
      "  n_iter_i = _check_optimize_result(\n",
      "/Users/Aaditya/git/ds4420_nba_betting/.venv/lib/python3.8/site-packages/sklearn/linear_model/_logistic.py:814: ConvergenceWarning: lbfgs failed to converge (status=1):\n",
      "STOP: TOTAL NO. of ITERATIONS REACHED LIMIT.\n",
      "\n",
      "Increase the number of iterations (max_iter) or scale the data as shown in:\n",
      "    https://scikit-learn.org/stable/modules/preprocessing.html\n",
      "Please also refer to the documentation for alternative solver options:\n",
      "    https://scikit-learn.org/stable/modules/linear_model.html#logistic-regression\n",
      "  n_iter_i = _check_optimize_result(\n",
      "/Users/Aaditya/git/ds4420_nba_betting/.venv/lib/python3.8/site-packages/sklearn/linear_model/_logistic.py:814: ConvergenceWarning: lbfgs failed to converge (status=1):\n",
      "STOP: TOTAL NO. of ITERATIONS REACHED LIMIT.\n",
      "\n",
      "Increase the number of iterations (max_iter) or scale the data as shown in:\n",
      "    https://scikit-learn.org/stable/modules/preprocessing.html\n",
      "Please also refer to the documentation for alternative solver options:\n",
      "    https://scikit-learn.org/stable/modules/linear_model.html#logistic-regression\n",
      "  n_iter_i = _check_optimize_result(\n",
      "/Users/Aaditya/git/ds4420_nba_betting/.venv/lib/python3.8/site-packages/sklearn/linear_model/_logistic.py:814: ConvergenceWarning: lbfgs failed to converge (status=1):\n",
      "STOP: TOTAL NO. of ITERATIONS REACHED LIMIT.\n",
      "\n",
      "Increase the number of iterations (max_iter) or scale the data as shown in:\n",
      "    https://scikit-learn.org/stable/modules/preprocessing.html\n",
      "Please also refer to the documentation for alternative solver options:\n",
      "    https://scikit-learn.org/stable/modules/linear_model.html#logistic-regression\n",
      "  n_iter_i = _check_optimize_result(\n",
      "/Users/Aaditya/git/ds4420_nba_betting/.venv/lib/python3.8/site-packages/sklearn/linear_model/_logistic.py:814: ConvergenceWarning: lbfgs failed to converge (status=1):\n",
      "STOP: TOTAL NO. of ITERATIONS REACHED LIMIT.\n",
      "\n",
      "Increase the number of iterations (max_iter) or scale the data as shown in:\n",
      "    https://scikit-learn.org/stable/modules/preprocessing.html\n",
      "Please also refer to the documentation for alternative solver options:\n",
      "    https://scikit-learn.org/stable/modules/linear_model.html#logistic-regression\n",
      "  n_iter_i = _check_optimize_result(\n",
      "/Users/Aaditya/git/ds4420_nba_betting/.venv/lib/python3.8/site-packages/sklearn/linear_model/_logistic.py:814: ConvergenceWarning: lbfgs failed to converge (status=1):\n",
      "STOP: TOTAL NO. of ITERATIONS REACHED LIMIT.\n",
      "\n",
      "Increase the number of iterations (max_iter) or scale the data as shown in:\n",
      "    https://scikit-learn.org/stable/modules/preprocessing.html\n",
      "Please also refer to the documentation for alternative solver options:\n",
      "    https://scikit-learn.org/stable/modules/linear_model.html#logistic-regression\n",
      "  n_iter_i = _check_optimize_result(\n",
      "/Users/Aaditya/git/ds4420_nba_betting/.venv/lib/python3.8/site-packages/sklearn/linear_model/_logistic.py:814: ConvergenceWarning: lbfgs failed to converge (status=1):\n",
      "STOP: TOTAL NO. of ITERATIONS REACHED LIMIT.\n",
      "\n",
      "Increase the number of iterations (max_iter) or scale the data as shown in:\n",
      "    https://scikit-learn.org/stable/modules/preprocessing.html\n",
      "Please also refer to the documentation for alternative solver options:\n",
      "    https://scikit-learn.org/stable/modules/linear_model.html#logistic-regression\n",
      "  n_iter_i = _check_optimize_result(\n",
      "/Users/Aaditya/git/ds4420_nba_betting/.venv/lib/python3.8/site-packages/sklearn/linear_model/_logistic.py:814: ConvergenceWarning: lbfgs failed to converge (status=1):\n",
      "STOP: TOTAL NO. of ITERATIONS REACHED LIMIT.\n",
      "\n",
      "Increase the number of iterations (max_iter) or scale the data as shown in:\n",
      "    https://scikit-learn.org/stable/modules/preprocessing.html\n",
      "Please also refer to the documentation for alternative solver options:\n",
      "    https://scikit-learn.org/stable/modules/linear_model.html#logistic-regression\n",
      "  n_iter_i = _check_optimize_result(\n",
      "/Users/Aaditya/git/ds4420_nba_betting/.venv/lib/python3.8/site-packages/sklearn/linear_model/_logistic.py:814: ConvergenceWarning: lbfgs failed to converge (status=1):\n",
      "STOP: TOTAL NO. of ITERATIONS REACHED LIMIT.\n",
      "\n",
      "Increase the number of iterations (max_iter) or scale the data as shown in:\n",
      "    https://scikit-learn.org/stable/modules/preprocessing.html\n",
      "Please also refer to the documentation for alternative solver options:\n",
      "    https://scikit-learn.org/stable/modules/linear_model.html#logistic-regression\n",
      "  n_iter_i = _check_optimize_result(\n",
      "/Users/Aaditya/git/ds4420_nba_betting/.venv/lib/python3.8/site-packages/sklearn/linear_model/_logistic.py:814: ConvergenceWarning: lbfgs failed to converge (status=1):\n",
      "STOP: TOTAL NO. of ITERATIONS REACHED LIMIT.\n",
      "\n",
      "Increase the number of iterations (max_iter) or scale the data as shown in:\n",
      "    https://scikit-learn.org/stable/modules/preprocessing.html\n",
      "Please also refer to the documentation for alternative solver options:\n",
      "    https://scikit-learn.org/stable/modules/linear_model.html#logistic-regression\n",
      "  n_iter_i = _check_optimize_result(\n",
      "/Users/Aaditya/git/ds4420_nba_betting/.venv/lib/python3.8/site-packages/sklearn/linear_model/_logistic.py:814: ConvergenceWarning: lbfgs failed to converge (status=1):\n",
      "STOP: TOTAL NO. of ITERATIONS REACHED LIMIT.\n",
      "\n",
      "Increase the number of iterations (max_iter) or scale the data as shown in:\n",
      "    https://scikit-learn.org/stable/modules/preprocessing.html\n",
      "Please also refer to the documentation for alternative solver options:\n",
      "    https://scikit-learn.org/stable/modules/linear_model.html#logistic-regression\n",
      "  n_iter_i = _check_optimize_result(\n",
      "/Users/Aaditya/git/ds4420_nba_betting/.venv/lib/python3.8/site-packages/sklearn/linear_model/_logistic.py:814: ConvergenceWarning: lbfgs failed to converge (status=1):\n",
      "STOP: TOTAL NO. of ITERATIONS REACHED LIMIT.\n",
      "\n",
      "Increase the number of iterations (max_iter) or scale the data as shown in:\n",
      "    https://scikit-learn.org/stable/modules/preprocessing.html\n",
      "Please also refer to the documentation for alternative solver options:\n",
      "    https://scikit-learn.org/stable/modules/linear_model.html#logistic-regression\n",
      "  n_iter_i = _check_optimize_result(\n",
      "/Users/Aaditya/git/ds4420_nba_betting/.venv/lib/python3.8/site-packages/sklearn/linear_model/_logistic.py:814: ConvergenceWarning: lbfgs failed to converge (status=1):\n",
      "STOP: TOTAL NO. of ITERATIONS REACHED LIMIT.\n",
      "\n",
      "Increase the number of iterations (max_iter) or scale the data as shown in:\n",
      "    https://scikit-learn.org/stable/modules/preprocessing.html\n",
      "Please also refer to the documentation for alternative solver options:\n",
      "    https://scikit-learn.org/stable/modules/linear_model.html#logistic-regression\n",
      "  n_iter_i = _check_optimize_result(\n",
      "/Users/Aaditya/git/ds4420_nba_betting/.venv/lib/python3.8/site-packages/sklearn/linear_model/_logistic.py:814: ConvergenceWarning: lbfgs failed to converge (status=1):\n",
      "STOP: TOTAL NO. of ITERATIONS REACHED LIMIT.\n",
      "\n",
      "Increase the number of iterations (max_iter) or scale the data as shown in:\n",
      "    https://scikit-learn.org/stable/modules/preprocessing.html\n",
      "Please also refer to the documentation for alternative solver options:\n",
      "    https://scikit-learn.org/stable/modules/linear_model.html#logistic-regression\n",
      "  n_iter_i = _check_optimize_result(\n",
      "/Users/Aaditya/git/ds4420_nba_betting/.venv/lib/python3.8/site-packages/sklearn/linear_model/_logistic.py:814: ConvergenceWarning: lbfgs failed to converge (status=1):\n",
      "STOP: TOTAL NO. of ITERATIONS REACHED LIMIT.\n",
      "\n",
      "Increase the number of iterations (max_iter) or scale the data as shown in:\n",
      "    https://scikit-learn.org/stable/modules/preprocessing.html\n",
      "Please also refer to the documentation for alternative solver options:\n",
      "    https://scikit-learn.org/stable/modules/linear_model.html#logistic-regression\n",
      "  n_iter_i = _check_optimize_result(\n",
      "/Users/Aaditya/git/ds4420_nba_betting/.venv/lib/python3.8/site-packages/sklearn/linear_model/_logistic.py:814: ConvergenceWarning: lbfgs failed to converge (status=1):\n",
      "STOP: TOTAL NO. of ITERATIONS REACHED LIMIT.\n",
      "\n",
      "Increase the number of iterations (max_iter) or scale the data as shown in:\n",
      "    https://scikit-learn.org/stable/modules/preprocessing.html\n",
      "Please also refer to the documentation for alternative solver options:\n",
      "    https://scikit-learn.org/stable/modules/linear_model.html#logistic-regression\n",
      "  n_iter_i = _check_optimize_result(\n",
      "/Users/Aaditya/git/ds4420_nba_betting/.venv/lib/python3.8/site-packages/sklearn/linear_model/_logistic.py:814: ConvergenceWarning: lbfgs failed to converge (status=1):\n",
      "STOP: TOTAL NO. of ITERATIONS REACHED LIMIT.\n",
      "\n",
      "Increase the number of iterations (max_iter) or scale the data as shown in:\n",
      "    https://scikit-learn.org/stable/modules/preprocessing.html\n",
      "Please also refer to the documentation for alternative solver options:\n",
      "    https://scikit-learn.org/stable/modules/linear_model.html#logistic-regression\n",
      "  n_iter_i = _check_optimize_result(\n",
      "/Users/Aaditya/git/ds4420_nba_betting/.venv/lib/python3.8/site-packages/sklearn/linear_model/_logistic.py:814: ConvergenceWarning: lbfgs failed to converge (status=1):\n",
      "STOP: TOTAL NO. of ITERATIONS REACHED LIMIT.\n",
      "\n",
      "Increase the number of iterations (max_iter) or scale the data as shown in:\n",
      "    https://scikit-learn.org/stable/modules/preprocessing.html\n",
      "Please also refer to the documentation for alternative solver options:\n",
      "    https://scikit-learn.org/stable/modules/linear_model.html#logistic-regression\n",
      "  n_iter_i = _check_optimize_result(\n",
      "/Users/Aaditya/git/ds4420_nba_betting/.venv/lib/python3.8/site-packages/sklearn/linear_model/_logistic.py:814: ConvergenceWarning: lbfgs failed to converge (status=1):\n",
      "STOP: TOTAL NO. of ITERATIONS REACHED LIMIT.\n",
      "\n",
      "Increase the number of iterations (max_iter) or scale the data as shown in:\n",
      "    https://scikit-learn.org/stable/modules/preprocessing.html\n",
      "Please also refer to the documentation for alternative solver options:\n",
      "    https://scikit-learn.org/stable/modules/linear_model.html#logistic-regression\n",
      "  n_iter_i = _check_optimize_result(\n",
      "/Users/Aaditya/git/ds4420_nba_betting/.venv/lib/python3.8/site-packages/sklearn/linear_model/_logistic.py:814: ConvergenceWarning: lbfgs failed to converge (status=1):\n",
      "STOP: TOTAL NO. of ITERATIONS REACHED LIMIT.\n",
      "\n",
      "Increase the number of iterations (max_iter) or scale the data as shown in:\n",
      "    https://scikit-learn.org/stable/modules/preprocessing.html\n",
      "Please also refer to the documentation for alternative solver options:\n",
      "    https://scikit-learn.org/stable/modules/linear_model.html#logistic-regression\n",
      "  n_iter_i = _check_optimize_result(\n",
      "/Users/Aaditya/git/ds4420_nba_betting/.venv/lib/python3.8/site-packages/sklearn/linear_model/_logistic.py:814: ConvergenceWarning: lbfgs failed to converge (status=1):\n",
      "STOP: TOTAL NO. of ITERATIONS REACHED LIMIT.\n",
      "\n",
      "Increase the number of iterations (max_iter) or scale the data as shown in:\n",
      "    https://scikit-learn.org/stable/modules/preprocessing.html\n",
      "Please also refer to the documentation for alternative solver options:\n",
      "    https://scikit-learn.org/stable/modules/linear_model.html#logistic-regression\n",
      "  n_iter_i = _check_optimize_result(\n",
      "/Users/Aaditya/git/ds4420_nba_betting/.venv/lib/python3.8/site-packages/sklearn/linear_model/_logistic.py:814: ConvergenceWarning: lbfgs failed to converge (status=1):\n",
      "STOP: TOTAL NO. of ITERATIONS REACHED LIMIT.\n",
      "\n",
      "Increase the number of iterations (max_iter) or scale the data as shown in:\n",
      "    https://scikit-learn.org/stable/modules/preprocessing.html\n",
      "Please also refer to the documentation for alternative solver options:\n",
      "    https://scikit-learn.org/stable/modules/linear_model.html#logistic-regression\n",
      "  n_iter_i = _check_optimize_result(\n",
      "/Users/Aaditya/git/ds4420_nba_betting/.venv/lib/python3.8/site-packages/sklearn/linear_model/_logistic.py:814: ConvergenceWarning: lbfgs failed to converge (status=1):\n",
      "STOP: TOTAL NO. of ITERATIONS REACHED LIMIT.\n",
      "\n",
      "Increase the number of iterations (max_iter) or scale the data as shown in:\n",
      "    https://scikit-learn.org/stable/modules/preprocessing.html\n",
      "Please also refer to the documentation for alternative solver options:\n",
      "    https://scikit-learn.org/stable/modules/linear_model.html#logistic-regression\n",
      "  n_iter_i = _check_optimize_result(\n",
      "/Users/Aaditya/git/ds4420_nba_betting/.venv/lib/python3.8/site-packages/sklearn/linear_model/_logistic.py:814: ConvergenceWarning: lbfgs failed to converge (status=1):\n",
      "STOP: TOTAL NO. of ITERATIONS REACHED LIMIT.\n",
      "\n",
      "Increase the number of iterations (max_iter) or scale the data as shown in:\n",
      "    https://scikit-learn.org/stable/modules/preprocessing.html\n",
      "Please also refer to the documentation for alternative solver options:\n",
      "    https://scikit-learn.org/stable/modules/linear_model.html#logistic-regression\n",
      "  n_iter_i = _check_optimize_result(\n",
      "/Users/Aaditya/git/ds4420_nba_betting/.venv/lib/python3.8/site-packages/sklearn/linear_model/_logistic.py:814: ConvergenceWarning: lbfgs failed to converge (status=1):\n",
      "STOP: TOTAL NO. of ITERATIONS REACHED LIMIT.\n",
      "\n",
      "Increase the number of iterations (max_iter) or scale the data as shown in:\n",
      "    https://scikit-learn.org/stable/modules/preprocessing.html\n",
      "Please also refer to the documentation for alternative solver options:\n",
      "    https://scikit-learn.org/stable/modules/linear_model.html#logistic-regression\n",
      "  n_iter_i = _check_optimize_result(\n",
      "/Users/Aaditya/git/ds4420_nba_betting/.venv/lib/python3.8/site-packages/sklearn/linear_model/_logistic.py:814: ConvergenceWarning: lbfgs failed to converge (status=1):\n",
      "STOP: TOTAL NO. of ITERATIONS REACHED LIMIT.\n",
      "\n",
      "Increase the number of iterations (max_iter) or scale the data as shown in:\n",
      "    https://scikit-learn.org/stable/modules/preprocessing.html\n",
      "Please also refer to the documentation for alternative solver options:\n",
      "    https://scikit-learn.org/stable/modules/linear_model.html#logistic-regression\n",
      "  n_iter_i = _check_optimize_result(\n",
      "/Users/Aaditya/git/ds4420_nba_betting/.venv/lib/python3.8/site-packages/sklearn/linear_model/_logistic.py:814: ConvergenceWarning: lbfgs failed to converge (status=1):\n",
      "STOP: TOTAL NO. of ITERATIONS REACHED LIMIT.\n",
      "\n",
      "Increase the number of iterations (max_iter) or scale the data as shown in:\n",
      "    https://scikit-learn.org/stable/modules/preprocessing.html\n",
      "Please also refer to the documentation for alternative solver options:\n",
      "    https://scikit-learn.org/stable/modules/linear_model.html#logistic-regression\n",
      "  n_iter_i = _check_optimize_result(\n",
      "/Users/Aaditya/git/ds4420_nba_betting/.venv/lib/python3.8/site-packages/sklearn/linear_model/_logistic.py:814: ConvergenceWarning: lbfgs failed to converge (status=1):\n",
      "STOP: TOTAL NO. of ITERATIONS REACHED LIMIT.\n",
      "\n",
      "Increase the number of iterations (max_iter) or scale the data as shown in:\n",
      "    https://scikit-learn.org/stable/modules/preprocessing.html\n",
      "Please also refer to the documentation for alternative solver options:\n",
      "    https://scikit-learn.org/stable/modules/linear_model.html#logistic-regression\n",
      "  n_iter_i = _check_optimize_result(\n",
      "/Users/Aaditya/git/ds4420_nba_betting/.venv/lib/python3.8/site-packages/sklearn/linear_model/_logistic.py:814: ConvergenceWarning: lbfgs failed to converge (status=1):\n",
      "STOP: TOTAL NO. of ITERATIONS REACHED LIMIT.\n",
      "\n",
      "Increase the number of iterations (max_iter) or scale the data as shown in:\n",
      "    https://scikit-learn.org/stable/modules/preprocessing.html\n",
      "Please also refer to the documentation for alternative solver options:\n",
      "    https://scikit-learn.org/stable/modules/linear_model.html#logistic-regression\n",
      "  n_iter_i = _check_optimize_result(\n",
      "/Users/Aaditya/git/ds4420_nba_betting/.venv/lib/python3.8/site-packages/sklearn/linear_model/_logistic.py:814: ConvergenceWarning: lbfgs failed to converge (status=1):\n",
      "STOP: TOTAL NO. of ITERATIONS REACHED LIMIT.\n",
      "\n",
      "Increase the number of iterations (max_iter) or scale the data as shown in:\n",
      "    https://scikit-learn.org/stable/modules/preprocessing.html\n",
      "Please also refer to the documentation for alternative solver options:\n",
      "    https://scikit-learn.org/stable/modules/linear_model.html#logistic-regression\n",
      "  n_iter_i = _check_optimize_result(\n",
      "/Users/Aaditya/git/ds4420_nba_betting/.venv/lib/python3.8/site-packages/sklearn/linear_model/_logistic.py:814: ConvergenceWarning: lbfgs failed to converge (status=1):\n",
      "STOP: TOTAL NO. of ITERATIONS REACHED LIMIT.\n",
      "\n",
      "Increase the number of iterations (max_iter) or scale the data as shown in:\n",
      "    https://scikit-learn.org/stable/modules/preprocessing.html\n",
      "Please also refer to the documentation for alternative solver options:\n",
      "    https://scikit-learn.org/stable/modules/linear_model.html#logistic-regression\n",
      "  n_iter_i = _check_optimize_result(\n",
      "/Users/Aaditya/git/ds4420_nba_betting/.venv/lib/python3.8/site-packages/sklearn/linear_model/_logistic.py:814: ConvergenceWarning: lbfgs failed to converge (status=1):\n",
      "STOP: TOTAL NO. of ITERATIONS REACHED LIMIT.\n",
      "\n",
      "Increase the number of iterations (max_iter) or scale the data as shown in:\n",
      "    https://scikit-learn.org/stable/modules/preprocessing.html\n",
      "Please also refer to the documentation for alternative solver options:\n",
      "    https://scikit-learn.org/stable/modules/linear_model.html#logistic-regression\n",
      "  n_iter_i = _check_optimize_result(\n",
      "/Users/Aaditya/git/ds4420_nba_betting/.venv/lib/python3.8/site-packages/sklearn/linear_model/_logistic.py:814: ConvergenceWarning: lbfgs failed to converge (status=1):\n",
      "STOP: TOTAL NO. of ITERATIONS REACHED LIMIT.\n",
      "\n",
      "Increase the number of iterations (max_iter) or scale the data as shown in:\n",
      "    https://scikit-learn.org/stable/modules/preprocessing.html\n",
      "Please also refer to the documentation for alternative solver options:\n",
      "    https://scikit-learn.org/stable/modules/linear_model.html#logistic-regression\n",
      "  n_iter_i = _check_optimize_result(\n",
      "/Users/Aaditya/git/ds4420_nba_betting/.venv/lib/python3.8/site-packages/sklearn/linear_model/_logistic.py:814: ConvergenceWarning: lbfgs failed to converge (status=1):\n",
      "STOP: TOTAL NO. of ITERATIONS REACHED LIMIT.\n",
      "\n",
      "Increase the number of iterations (max_iter) or scale the data as shown in:\n",
      "    https://scikit-learn.org/stable/modules/preprocessing.html\n",
      "Please also refer to the documentation for alternative solver options:\n",
      "    https://scikit-learn.org/stable/modules/linear_model.html#logistic-regression\n",
      "  n_iter_i = _check_optimize_result(\n",
      "/Users/Aaditya/git/ds4420_nba_betting/.venv/lib/python3.8/site-packages/sklearn/linear_model/_logistic.py:814: ConvergenceWarning: lbfgs failed to converge (status=1):\n",
      "STOP: TOTAL NO. of ITERATIONS REACHED LIMIT.\n",
      "\n",
      "Increase the number of iterations (max_iter) or scale the data as shown in:\n",
      "    https://scikit-learn.org/stable/modules/preprocessing.html\n",
      "Please also refer to the documentation for alternative solver options:\n",
      "    https://scikit-learn.org/stable/modules/linear_model.html#logistic-regression\n",
      "  n_iter_i = _check_optimize_result(\n",
      "/Users/Aaditya/git/ds4420_nba_betting/.venv/lib/python3.8/site-packages/sklearn/linear_model/_logistic.py:814: ConvergenceWarning: lbfgs failed to converge (status=1):\n",
      "STOP: TOTAL NO. of ITERATIONS REACHED LIMIT.\n",
      "\n",
      "Increase the number of iterations (max_iter) or scale the data as shown in:\n",
      "    https://scikit-learn.org/stable/modules/preprocessing.html\n",
      "Please also refer to the documentation for alternative solver options:\n",
      "    https://scikit-learn.org/stable/modules/linear_model.html#logistic-regression\n",
      "  n_iter_i = _check_optimize_result(\n",
      "/Users/Aaditya/git/ds4420_nba_betting/.venv/lib/python3.8/site-packages/sklearn/linear_model/_logistic.py:814: ConvergenceWarning: lbfgs failed to converge (status=1):\n",
      "STOP: TOTAL NO. of ITERATIONS REACHED LIMIT.\n",
      "\n",
      "Increase the number of iterations (max_iter) or scale the data as shown in:\n",
      "    https://scikit-learn.org/stable/modules/preprocessing.html\n",
      "Please also refer to the documentation for alternative solver options:\n",
      "    https://scikit-learn.org/stable/modules/linear_model.html#logistic-regression\n",
      "  n_iter_i = _check_optimize_result(\n",
      "/Users/Aaditya/git/ds4420_nba_betting/.venv/lib/python3.8/site-packages/sklearn/linear_model/_logistic.py:814: ConvergenceWarning: lbfgs failed to converge (status=1):\n",
      "STOP: TOTAL NO. of ITERATIONS REACHED LIMIT.\n",
      "\n",
      "Increase the number of iterations (max_iter) or scale the data as shown in:\n",
      "    https://scikit-learn.org/stable/modules/preprocessing.html\n",
      "Please also refer to the documentation for alternative solver options:\n",
      "    https://scikit-learn.org/stable/modules/linear_model.html#logistic-regression\n",
      "  n_iter_i = _check_optimize_result(\n",
      "/Users/Aaditya/git/ds4420_nba_betting/.venv/lib/python3.8/site-packages/sklearn/linear_model/_logistic.py:814: ConvergenceWarning: lbfgs failed to converge (status=1):\n",
      "STOP: TOTAL NO. of ITERATIONS REACHED LIMIT.\n",
      "\n",
      "Increase the number of iterations (max_iter) or scale the data as shown in:\n",
      "    https://scikit-learn.org/stable/modules/preprocessing.html\n",
      "Please also refer to the documentation for alternative solver options:\n",
      "    https://scikit-learn.org/stable/modules/linear_model.html#logistic-regression\n",
      "  n_iter_i = _check_optimize_result(\n",
      "/Users/Aaditya/git/ds4420_nba_betting/.venv/lib/python3.8/site-packages/sklearn/linear_model/_logistic.py:814: ConvergenceWarning: lbfgs failed to converge (status=1):\n",
      "STOP: TOTAL NO. of ITERATIONS REACHED LIMIT.\n",
      "\n",
      "Increase the number of iterations (max_iter) or scale the data as shown in:\n",
      "    https://scikit-learn.org/stable/modules/preprocessing.html\n",
      "Please also refer to the documentation for alternative solver options:\n",
      "    https://scikit-learn.org/stable/modules/linear_model.html#logistic-regression\n",
      "  n_iter_i = _check_optimize_result(\n",
      "/Users/Aaditya/git/ds4420_nba_betting/.venv/lib/python3.8/site-packages/sklearn/linear_model/_logistic.py:814: ConvergenceWarning: lbfgs failed to converge (status=1):\n",
      "STOP: TOTAL NO. of ITERATIONS REACHED LIMIT.\n",
      "\n",
      "Increase the number of iterations (max_iter) or scale the data as shown in:\n",
      "    https://scikit-learn.org/stable/modules/preprocessing.html\n",
      "Please also refer to the documentation for alternative solver options:\n",
      "    https://scikit-learn.org/stable/modules/linear_model.html#logistic-regression\n",
      "  n_iter_i = _check_optimize_result(\n",
      "/Users/Aaditya/git/ds4420_nba_betting/.venv/lib/python3.8/site-packages/sklearn/linear_model/_logistic.py:814: ConvergenceWarning: lbfgs failed to converge (status=1):\n",
      "STOP: TOTAL NO. of ITERATIONS REACHED LIMIT.\n",
      "\n",
      "Increase the number of iterations (max_iter) or scale the data as shown in:\n",
      "    https://scikit-learn.org/stable/modules/preprocessing.html\n",
      "Please also refer to the documentation for alternative solver options:\n",
      "    https://scikit-learn.org/stable/modules/linear_model.html#logistic-regression\n",
      "  n_iter_i = _check_optimize_result(\n",
      "/Users/Aaditya/git/ds4420_nba_betting/.venv/lib/python3.8/site-packages/sklearn/linear_model/_logistic.py:814: ConvergenceWarning: lbfgs failed to converge (status=1):\n",
      "STOP: TOTAL NO. of ITERATIONS REACHED LIMIT.\n",
      "\n",
      "Increase the number of iterations (max_iter) or scale the data as shown in:\n",
      "    https://scikit-learn.org/stable/modules/preprocessing.html\n",
      "Please also refer to the documentation for alternative solver options:\n",
      "    https://scikit-learn.org/stable/modules/linear_model.html#logistic-regression\n",
      "  n_iter_i = _check_optimize_result(\n",
      "/Users/Aaditya/git/ds4420_nba_betting/.venv/lib/python3.8/site-packages/sklearn/linear_model/_logistic.py:814: ConvergenceWarning: lbfgs failed to converge (status=1):\n",
      "STOP: TOTAL NO. of ITERATIONS REACHED LIMIT.\n",
      "\n",
      "Increase the number of iterations (max_iter) or scale the data as shown in:\n",
      "    https://scikit-learn.org/stable/modules/preprocessing.html\n",
      "Please also refer to the documentation for alternative solver options:\n",
      "    https://scikit-learn.org/stable/modules/linear_model.html#logistic-regression\n",
      "  n_iter_i = _check_optimize_result(\n",
      "/Users/Aaditya/git/ds4420_nba_betting/.venv/lib/python3.8/site-packages/sklearn/linear_model/_logistic.py:814: ConvergenceWarning: lbfgs failed to converge (status=1):\n",
      "STOP: TOTAL NO. of ITERATIONS REACHED LIMIT.\n",
      "\n",
      "Increase the number of iterations (max_iter) or scale the data as shown in:\n",
      "    https://scikit-learn.org/stable/modules/preprocessing.html\n",
      "Please also refer to the documentation for alternative solver options:\n",
      "    https://scikit-learn.org/stable/modules/linear_model.html#logistic-regression\n",
      "  n_iter_i = _check_optimize_result(\n",
      "/Users/Aaditya/git/ds4420_nba_betting/.venv/lib/python3.8/site-packages/sklearn/linear_model/_logistic.py:814: ConvergenceWarning: lbfgs failed to converge (status=1):\n",
      "STOP: TOTAL NO. of ITERATIONS REACHED LIMIT.\n",
      "\n",
      "Increase the number of iterations (max_iter) or scale the data as shown in:\n",
      "    https://scikit-learn.org/stable/modules/preprocessing.html\n",
      "Please also refer to the documentation for alternative solver options:\n",
      "    https://scikit-learn.org/stable/modules/linear_model.html#logistic-regression\n",
      "  n_iter_i = _check_optimize_result(\n",
      "/Users/Aaditya/git/ds4420_nba_betting/.venv/lib/python3.8/site-packages/sklearn/linear_model/_logistic.py:814: ConvergenceWarning: lbfgs failed to converge (status=1):\n",
      "STOP: TOTAL NO. of ITERATIONS REACHED LIMIT.\n",
      "\n",
      "Increase the number of iterations (max_iter) or scale the data as shown in:\n",
      "    https://scikit-learn.org/stable/modules/preprocessing.html\n",
      "Please also refer to the documentation for alternative solver options:\n",
      "    https://scikit-learn.org/stable/modules/linear_model.html#logistic-regression\n",
      "  n_iter_i = _check_optimize_result(\n",
      "/Users/Aaditya/git/ds4420_nba_betting/.venv/lib/python3.8/site-packages/sklearn/linear_model/_logistic.py:814: ConvergenceWarning: lbfgs failed to converge (status=1):\n",
      "STOP: TOTAL NO. of ITERATIONS REACHED LIMIT.\n",
      "\n",
      "Increase the number of iterations (max_iter) or scale the data as shown in:\n",
      "    https://scikit-learn.org/stable/modules/preprocessing.html\n",
      "Please also refer to the documentation for alternative solver options:\n",
      "    https://scikit-learn.org/stable/modules/linear_model.html#logistic-regression\n",
      "  n_iter_i = _check_optimize_result(\n",
      "/Users/Aaditya/git/ds4420_nba_betting/.venv/lib/python3.8/site-packages/sklearn/linear_model/_logistic.py:814: ConvergenceWarning: lbfgs failed to converge (status=1):\n",
      "STOP: TOTAL NO. of ITERATIONS REACHED LIMIT.\n",
      "\n",
      "Increase the number of iterations (max_iter) or scale the data as shown in:\n",
      "    https://scikit-learn.org/stable/modules/preprocessing.html\n",
      "Please also refer to the documentation for alternative solver options:\n",
      "    https://scikit-learn.org/stable/modules/linear_model.html#logistic-regression\n",
      "  n_iter_i = _check_optimize_result(\n",
      "/Users/Aaditya/git/ds4420_nba_betting/.venv/lib/python3.8/site-packages/sklearn/linear_model/_logistic.py:814: ConvergenceWarning: lbfgs failed to converge (status=1):\n",
      "STOP: TOTAL NO. of ITERATIONS REACHED LIMIT.\n",
      "\n",
      "Increase the number of iterations (max_iter) or scale the data as shown in:\n",
      "    https://scikit-learn.org/stable/modules/preprocessing.html\n",
      "Please also refer to the documentation for alternative solver options:\n",
      "    https://scikit-learn.org/stable/modules/linear_model.html#logistic-regression\n",
      "  n_iter_i = _check_optimize_result(\n",
      "/Users/Aaditya/git/ds4420_nba_betting/.venv/lib/python3.8/site-packages/sklearn/linear_model/_logistic.py:814: ConvergenceWarning: lbfgs failed to converge (status=1):\n",
      "STOP: TOTAL NO. of ITERATIONS REACHED LIMIT.\n",
      "\n",
      "Increase the number of iterations (max_iter) or scale the data as shown in:\n",
      "    https://scikit-learn.org/stable/modules/preprocessing.html\n",
      "Please also refer to the documentation for alternative solver options:\n",
      "    https://scikit-learn.org/stable/modules/linear_model.html#logistic-regression\n",
      "  n_iter_i = _check_optimize_result(\n",
      "/Users/Aaditya/git/ds4420_nba_betting/.venv/lib/python3.8/site-packages/sklearn/linear_model/_logistic.py:814: ConvergenceWarning: lbfgs failed to converge (status=1):\n",
      "STOP: TOTAL NO. of ITERATIONS REACHED LIMIT.\n",
      "\n",
      "Increase the number of iterations (max_iter) or scale the data as shown in:\n",
      "    https://scikit-learn.org/stable/modules/preprocessing.html\n",
      "Please also refer to the documentation for alternative solver options:\n",
      "    https://scikit-learn.org/stable/modules/linear_model.html#logistic-regression\n",
      "  n_iter_i = _check_optimize_result(\n",
      "/Users/Aaditya/git/ds4420_nba_betting/.venv/lib/python3.8/site-packages/sklearn/linear_model/_logistic.py:814: ConvergenceWarning: lbfgs failed to converge (status=1):\n",
      "STOP: TOTAL NO. of ITERATIONS REACHED LIMIT.\n",
      "\n",
      "Increase the number of iterations (max_iter) or scale the data as shown in:\n",
      "    https://scikit-learn.org/stable/modules/preprocessing.html\n",
      "Please also refer to the documentation for alternative solver options:\n",
      "    https://scikit-learn.org/stable/modules/linear_model.html#logistic-regression\n",
      "  n_iter_i = _check_optimize_result(\n",
      "/Users/Aaditya/git/ds4420_nba_betting/.venv/lib/python3.8/site-packages/sklearn/linear_model/_logistic.py:814: ConvergenceWarning: lbfgs failed to converge (status=1):\n",
      "STOP: TOTAL NO. of ITERATIONS REACHED LIMIT.\n",
      "\n",
      "Increase the number of iterations (max_iter) or scale the data as shown in:\n",
      "    https://scikit-learn.org/stable/modules/preprocessing.html\n",
      "Please also refer to the documentation for alternative solver options:\n",
      "    https://scikit-learn.org/stable/modules/linear_model.html#logistic-regression\n",
      "  n_iter_i = _check_optimize_result(\n",
      "/Users/Aaditya/git/ds4420_nba_betting/.venv/lib/python3.8/site-packages/sklearn/linear_model/_logistic.py:814: ConvergenceWarning: lbfgs failed to converge (status=1):\n",
      "STOP: TOTAL NO. of ITERATIONS REACHED LIMIT.\n",
      "\n",
      "Increase the number of iterations (max_iter) or scale the data as shown in:\n",
      "    https://scikit-learn.org/stable/modules/preprocessing.html\n",
      "Please also refer to the documentation for alternative solver options:\n",
      "    https://scikit-learn.org/stable/modules/linear_model.html#logistic-regression\n",
      "  n_iter_i = _check_optimize_result(\n",
      "/Users/Aaditya/git/ds4420_nba_betting/.venv/lib/python3.8/site-packages/sklearn/linear_model/_logistic.py:814: ConvergenceWarning: lbfgs failed to converge (status=1):\n",
      "STOP: TOTAL NO. of ITERATIONS REACHED LIMIT.\n",
      "\n",
      "Increase the number of iterations (max_iter) or scale the data as shown in:\n",
      "    https://scikit-learn.org/stable/modules/preprocessing.html\n",
      "Please also refer to the documentation for alternative solver options:\n",
      "    https://scikit-learn.org/stable/modules/linear_model.html#logistic-regression\n",
      "  n_iter_i = _check_optimize_result(\n",
      "/Users/Aaditya/git/ds4420_nba_betting/.venv/lib/python3.8/site-packages/sklearn/linear_model/_logistic.py:814: ConvergenceWarning: lbfgs failed to converge (status=1):\n",
      "STOP: TOTAL NO. of ITERATIONS REACHED LIMIT.\n",
      "\n",
      "Increase the number of iterations (max_iter) or scale the data as shown in:\n",
      "    https://scikit-learn.org/stable/modules/preprocessing.html\n",
      "Please also refer to the documentation for alternative solver options:\n",
      "    https://scikit-learn.org/stable/modules/linear_model.html#logistic-regression\n",
      "  n_iter_i = _check_optimize_result(\n",
      "/Users/Aaditya/git/ds4420_nba_betting/.venv/lib/python3.8/site-packages/sklearn/linear_model/_logistic.py:814: ConvergenceWarning: lbfgs failed to converge (status=1):\n",
      "STOP: TOTAL NO. of ITERATIONS REACHED LIMIT.\n",
      "\n",
      "Increase the number of iterations (max_iter) or scale the data as shown in:\n",
      "    https://scikit-learn.org/stable/modules/preprocessing.html\n",
      "Please also refer to the documentation for alternative solver options:\n",
      "    https://scikit-learn.org/stable/modules/linear_model.html#logistic-regression\n",
      "  n_iter_i = _check_optimize_result(\n",
      "/Users/Aaditya/git/ds4420_nba_betting/.venv/lib/python3.8/site-packages/sklearn/linear_model/_logistic.py:814: ConvergenceWarning: lbfgs failed to converge (status=1):\n",
      "STOP: TOTAL NO. of ITERATIONS REACHED LIMIT.\n",
      "\n",
      "Increase the number of iterations (max_iter) or scale the data as shown in:\n",
      "    https://scikit-learn.org/stable/modules/preprocessing.html\n",
      "Please also refer to the documentation for alternative solver options:\n",
      "    https://scikit-learn.org/stable/modules/linear_model.html#logistic-regression\n",
      "  n_iter_i = _check_optimize_result(\n",
      "/Users/Aaditya/git/ds4420_nba_betting/.venv/lib/python3.8/site-packages/sklearn/linear_model/_logistic.py:814: ConvergenceWarning: lbfgs failed to converge (status=1):\n",
      "STOP: TOTAL NO. of ITERATIONS REACHED LIMIT.\n",
      "\n",
      "Increase the number of iterations (max_iter) or scale the data as shown in:\n",
      "    https://scikit-learn.org/stable/modules/preprocessing.html\n",
      "Please also refer to the documentation for alternative solver options:\n",
      "    https://scikit-learn.org/stable/modules/linear_model.html#logistic-regression\n",
      "  n_iter_i = _check_optimize_result(\n",
      "/Users/Aaditya/git/ds4420_nba_betting/.venv/lib/python3.8/site-packages/sklearn/linear_model/_logistic.py:814: ConvergenceWarning: lbfgs failed to converge (status=1):\n",
      "STOP: TOTAL NO. of ITERATIONS REACHED LIMIT.\n",
      "\n",
      "Increase the number of iterations (max_iter) or scale the data as shown in:\n",
      "    https://scikit-learn.org/stable/modules/preprocessing.html\n",
      "Please also refer to the documentation for alternative solver options:\n",
      "    https://scikit-learn.org/stable/modules/linear_model.html#logistic-regression\n",
      "  n_iter_i = _check_optimize_result(\n",
      "/Users/Aaditya/git/ds4420_nba_betting/.venv/lib/python3.8/site-packages/sklearn/linear_model/_logistic.py:814: ConvergenceWarning: lbfgs failed to converge (status=1):\n",
      "STOP: TOTAL NO. of ITERATIONS REACHED LIMIT.\n",
      "\n",
      "Increase the number of iterations (max_iter) or scale the data as shown in:\n",
      "    https://scikit-learn.org/stable/modules/preprocessing.html\n",
      "Please also refer to the documentation for alternative solver options:\n",
      "    https://scikit-learn.org/stable/modules/linear_model.html#logistic-regression\n",
      "  n_iter_i = _check_optimize_result(\n",
      "/Users/Aaditya/git/ds4420_nba_betting/.venv/lib/python3.8/site-packages/sklearn/linear_model/_logistic.py:814: ConvergenceWarning: lbfgs failed to converge (status=1):\n",
      "STOP: TOTAL NO. of ITERATIONS REACHED LIMIT.\n",
      "\n",
      "Increase the number of iterations (max_iter) or scale the data as shown in:\n",
      "    https://scikit-learn.org/stable/modules/preprocessing.html\n",
      "Please also refer to the documentation for alternative solver options:\n",
      "    https://scikit-learn.org/stable/modules/linear_model.html#logistic-regression\n",
      "  n_iter_i = _check_optimize_result(\n",
      "/Users/Aaditya/git/ds4420_nba_betting/.venv/lib/python3.8/site-packages/sklearn/linear_model/_logistic.py:814: ConvergenceWarning: lbfgs failed to converge (status=1):\n",
      "STOP: TOTAL NO. of ITERATIONS REACHED LIMIT.\n",
      "\n",
      "Increase the number of iterations (max_iter) or scale the data as shown in:\n",
      "    https://scikit-learn.org/stable/modules/preprocessing.html\n",
      "Please also refer to the documentation for alternative solver options:\n",
      "    https://scikit-learn.org/stable/modules/linear_model.html#logistic-regression\n",
      "  n_iter_i = _check_optimize_result(\n",
      "/Users/Aaditya/git/ds4420_nba_betting/.venv/lib/python3.8/site-packages/sklearn/linear_model/_logistic.py:814: ConvergenceWarning: lbfgs failed to converge (status=1):\n",
      "STOP: TOTAL NO. of ITERATIONS REACHED LIMIT.\n",
      "\n",
      "Increase the number of iterations (max_iter) or scale the data as shown in:\n",
      "    https://scikit-learn.org/stable/modules/preprocessing.html\n",
      "Please also refer to the documentation for alternative solver options:\n",
      "    https://scikit-learn.org/stable/modules/linear_model.html#logistic-regression\n",
      "  n_iter_i = _check_optimize_result(\n",
      "/Users/Aaditya/git/ds4420_nba_betting/.venv/lib/python3.8/site-packages/sklearn/linear_model/_logistic.py:814: ConvergenceWarning: lbfgs failed to converge (status=1):\n",
      "STOP: TOTAL NO. of ITERATIONS REACHED LIMIT.\n",
      "\n",
      "Increase the number of iterations (max_iter) or scale the data as shown in:\n",
      "    https://scikit-learn.org/stable/modules/preprocessing.html\n",
      "Please also refer to the documentation for alternative solver options:\n",
      "    https://scikit-learn.org/stable/modules/linear_model.html#logistic-regression\n",
      "  n_iter_i = _check_optimize_result(\n",
      "/Users/Aaditya/git/ds4420_nba_betting/.venv/lib/python3.8/site-packages/sklearn/linear_model/_logistic.py:814: ConvergenceWarning: lbfgs failed to converge (status=1):\n",
      "STOP: TOTAL NO. of ITERATIONS REACHED LIMIT.\n",
      "\n",
      "Increase the number of iterations (max_iter) or scale the data as shown in:\n",
      "    https://scikit-learn.org/stable/modules/preprocessing.html\n",
      "Please also refer to the documentation for alternative solver options:\n",
      "    https://scikit-learn.org/stable/modules/linear_model.html#logistic-regression\n",
      "  n_iter_i = _check_optimize_result(\n",
      "/Users/Aaditya/git/ds4420_nba_betting/.venv/lib/python3.8/site-packages/sklearn/linear_model/_logistic.py:814: ConvergenceWarning: lbfgs failed to converge (status=1):\n",
      "STOP: TOTAL NO. of ITERATIONS REACHED LIMIT.\n",
      "\n",
      "Increase the number of iterations (max_iter) or scale the data as shown in:\n",
      "    https://scikit-learn.org/stable/modules/preprocessing.html\n",
      "Please also refer to the documentation for alternative solver options:\n",
      "    https://scikit-learn.org/stable/modules/linear_model.html#logistic-regression\n",
      "  n_iter_i = _check_optimize_result(\n",
      "/Users/Aaditya/git/ds4420_nba_betting/.venv/lib/python3.8/site-packages/sklearn/linear_model/_logistic.py:814: ConvergenceWarning: lbfgs failed to converge (status=1):\n",
      "STOP: TOTAL NO. of ITERATIONS REACHED LIMIT.\n",
      "\n",
      "Increase the number of iterations (max_iter) or scale the data as shown in:\n",
      "    https://scikit-learn.org/stable/modules/preprocessing.html\n",
      "Please also refer to the documentation for alternative solver options:\n",
      "    https://scikit-learn.org/stable/modules/linear_model.html#logistic-regression\n",
      "  n_iter_i = _check_optimize_result(\n"
     ]
    }
   ],
   "source": [
    "logger.info(\n",
    "    \"Training VotingClassifier with: %r\", [model_name for model_name in NBA_MODELS]\n",
    ")\n",
    "param_grid: Dict[str, List[Any]] = {\n",
    "    \"weights\": list(\n",
    "        set(\n",
    "            tuple(np.divide(weight_combination, sum(weight_combination)))\n",
    "            for weight_combination in combinations_with_replacement(\n",
    "                [i for i in range(2)], len(NBA_MODELS)\n",
    "            )\n",
    "            if sum(weight_combination) != 0\n",
    "        )\n",
    "    ),\n",
    "}\n",
    "logger.info(\"Using grid search wih params: %r\", param_grid)\n",
    "voting_cls: GridSearchCV = GridSearchCV(\n",
    "    estimator=VotingClassifier(\n",
    "        estimators=[(model_name, model()) for model_name, model in NBA_MODELS.items()],\n",
    "        voting=\"soft\",\n",
    "    ),\n",
    "    param_grid=param_grid,\n",
    "    cv=5,\n",
    ")\n",
    "voting_cls = voting_cls.fit(X_train, y_train)\n"
   ]
  },
  {
   "cell_type": "code",
   "execution_count": 56,
   "id": "ad9f841e",
   "metadata": {},
   "outputs": [
    {
     "name": "stderr",
     "output_type": "stream",
     "text": [
      "INFO:nba_betting:Grid search complete. GridSearchCV best params: {'weights': (0.0, 0.0, 0.1, 0.1, 0.1, 0.1, 0.1, 0.1, 0.1, 0.1, 0.1, 0.1)}\n"
     ]
    }
   ],
   "source": [
    "logger.info(\n",
    "    \"Grid search complete. GridSearchCV best params: %r\", voting_cls.best_params_\n",
    ")"
   ]
  },
  {
   "cell_type": "code",
   "execution_count": 57,
   "id": "620e73d3",
   "metadata": {},
   "outputs": [
    {
     "name": "stderr",
     "output_type": "stream",
     "text": [
      "INFO:nba_betting:Training set score: 0.950369155045119\n",
      "INFO:nba_betting:              precision    recall  f1-score   support\n",
      "\n",
      "           L       0.96      0.94      0.95      1219\n",
      "           W       0.94      0.96      0.95      1219\n",
      "\n",
      "    accuracy                           0.95      2438\n",
      "   macro avg       0.95      0.95      0.95      2438\n",
      "weighted avg       0.95      0.95      0.95      2438\n",
      "\n"
     ]
    }
   ],
   "source": [
    "logger.info(\n",
    "    \"Training set score: %s\",\n",
    "    accuracy_score(y_train, voting_cls.predict(X_train)),\n",
    ")\n",
    "logger.info(classification_report(y_train, voting_cls.predict(X_train)))\n"
   ]
  },
  {
   "cell_type": "code",
   "execution_count": 58,
   "id": "43c6b056",
   "metadata": {},
   "outputs": [
    {
     "name": "stderr",
     "output_type": "stream",
     "text": [
      "INFO:nba_betting:Testing set score: 0.6266735324407827\n",
      "INFO:nba_betting:              precision    recall  f1-score   support\n",
      "\n",
      "           L       0.65      0.55      0.60       971\n",
      "           W       0.61      0.70      0.65       971\n",
      "\n",
      "    accuracy                           0.63      1942\n",
      "   macro avg       0.63      0.63      0.62      1942\n",
      "weighted avg       0.63      0.63      0.62      1942\n",
      "\n"
     ]
    }
   ],
   "source": [
    "logger.info(\n",
    "    \"Testing set score: %s\",\n",
    "    accuracy_score(y_test, voting_cls.predict(X_test)),\n",
    ")\n",
    "logger.info(classification_report(y_test, voting_cls.predict(X_test)))\n"
   ]
  },
  {
   "cell_type": "code",
   "execution_count": 59,
   "id": "555701e0",
   "metadata": {},
   "outputs": [
    {
     "data": {
      "image/png": "[encoded data removed]",
      "text/plain": [
       "<Figure size 432x288 with 2 Axes>"
      ]
     },
     "metadata": {
      "needs_background": "light"
     },
     "output_type": "display_data"
    }
   ],
   "source": [
    "plot_conf_mat(y_train, voting_cls.predict(X_train))"
   ]
  },
  {
   "cell_type": "code",
   "execution_count": 60,
   "id": "9e899d85",
   "metadata": {},
   "outputs": [
    {
     "data": {
      "image/png": "[encoded data removed]",
      "text/plain": [
       "<Figure size 432x288 with 2 Axes>"
      ]
     },
     "metadata": {
      "needs_background": "light"
     },
     "output_type": "display_data"
    }
   ],
   "source": [
    "plot_conf_mat(y_test, voting_cls.predict(X_test))"
   ]
  },
  {
   "cell_type": "code",
   "execution_count": 62,
   "id": "2d72b600",
   "metadata": {},
   "outputs": [
    {
     "data": {
      "text/plain": [
       "Text(0, 0.5, 'True Positive Rate')"
      ]
     },
     "execution_count": 62,
     "metadata": {},
     "output_type": "execute_result"
    },
    {
     "data": {
      "image/png": "[encoded data removed]",
      "text/plain": [
       "<Figure size 432x288 with 1 Axes>"
      ]
     },
     "metadata": {
      "needs_background": "light"
     },
     "output_type": "display_data"
    }
   ],
   "source": [
    "# ROC Curve\n",
    "\n",
    "voting_cls_pred_proba = voting_cls.predict_proba(X_test)[::,1]\n",
    "fpr, tpr, _ = roc_curve(y_test,  voting_cls_pred_proba, pos_label=\"W\")\n",
    "auc = roc_auc_score(y_test, voting_cls_pred_proba)\n",
    "plt.plot(fpr,tpr,label=\"auc=\"+str(auc))\n",
    "plt.xlabel('False Positive Rate')\n",
    "plt.ylabel('True Positive Rate')"
   ]
  },
  {
   "cell_type": "markdown",
   "id": "2123303e",
   "metadata": {},
   "source": [
    "# Unsupervised Ensemble"
   ]
  },
  {
   "cell_type": "markdown",
   "metadata": {},
   "source": [
    "### Train ensemble with Ridge or RandomForest learners for corrections and weights"
   ]
  },
  {
   "cell_type": "code",
   "execution_count": 13,
   "id": "563555ba",
   "metadata": {},
   "outputs": [],
   "source": [
    "ridge_params: Dict[str, List[Any]] = {\n",
    "    \"scale\": [RobustScaler(), \"passthrough\"],\n",
    "    \"poly__degree\": [1, 2, 3],\n",
    "    \"pca\": [PCA(n_components=\"mle\"), PCA(n_components=40), \"passthrough\"],\n",
    "    \"ridge__tol\": [0.001, 0.01],\n",
    "}\n",
    "random_forest_params = {\n",
    "    \"n_estimators\": [10, 50, 100, 200],\n",
    "    \"max_depth\": [1, 2, 3],\n",
    "    \"ccp_alpha\": [0, 0.05, 0.1],\n",
    "}"
   ]
  },
  {
   "cell_type": "markdown",
   "id": "4b9fc474",
   "metadata": {},
   "source": [
    "## Unsupervised Ensemble with\n",
    "\n",
    "#### Ridge regression as correction model and RandomForestRegressor as weights model"
   ]
  },
  {
   "cell_type": "code",
   "execution_count": 63,
   "id": "53cea426",
   "metadata": {},
   "outputs": [
    {
     "name": "stderr",
     "output_type": "stream",
     "text": [
      "INFO:nba_betting:Training UnsupervisedEnsemble with: ['defence_logistic_regression', 'offence_logistic_regression', 'efficiency_logistic_regression', 'general_logistic_regression', 'shooting_logistic_regression', 'defence_gaussian_naive_bayes', 'offence_gaussian_naive_bayes', 'efficiency_gaussian_naive_bayes', 'general_gaussian_naive_bayes', 'defence_random_forest', 'offence_random_forest', 'efficiency_random_forest']\n",
      "INFO:root:Using Ridge as correction model and RandomForestRegressor as weights model\n",
      "/Users/Aaditya/git/ds4420_nba_betting/.venv/lib/python3.8/site-packages/sklearn/linear_model/_logistic.py:814: ConvergenceWarning: lbfgs failed to converge (status=1):\n",
      "STOP: TOTAL NO. of ITERATIONS REACHED LIMIT.\n",
      "\n",
      "Increase the number of iterations (max_iter) or scale the data as shown in:\n",
      "    https://scikit-learn.org/stable/modules/preprocessing.html\n",
      "Please also refer to the documentation for alternative solver options:\n",
      "    https://scikit-learn.org/stable/modules/linear_model.html#logistic-regression\n",
      "  n_iter_i = _check_optimize_result(\n",
      "/Users/Aaditya/git/ds4420_nba_betting/.venv/lib/python3.8/site-packages/joblib/externals/loky/process_executor.py:702: UserWarning: A worker stopped while some jobs were given to the executor. This can be caused by a too short worker timeout or by a memory leak.\n",
      "  warnings.warn(\n",
      "/Users/Aaditya/git/ds4420_nba_betting/.venv/lib/python3.8/site-packages/sklearn/linear_model/_ridge.py:194: LinAlgWarning: Ill-conditioned matrix (rcond=4.11493e-18): result may not be accurate.\n",
      "  dual_coef = linalg.solve(K, y, sym_pos=True, overwrite_a=False)\n",
      "/Users/Aaditya/git/ds4420_nba_betting/.venv/lib/python3.8/site-packages/sklearn/linear_model/_ridge.py:194: LinAlgWarning: Ill-conditioned matrix (rcond=4.99056e-18): result may not be accurate.\n",
      "  dual_coef = linalg.solve(K, y, sym_pos=True, overwrite_a=False)\n",
      "/Users/Aaditya/git/ds4420_nba_betting/.venv/lib/python3.8/site-packages/sklearn/linear_model/_ridge.py:194: LinAlgWarning: Ill-conditioned matrix (rcond=9.23817e-17): result may not be accurate.\n",
      "  dual_coef = linalg.solve(K, y, sym_pos=True, overwrite_a=False)\n",
      "/Users/Aaditya/git/ds4420_nba_betting/.venv/lib/python3.8/site-packages/sklearn/linear_model/_ridge.py:194: LinAlgWarning: Ill-conditioned matrix (rcond=4.11493e-18): result may not be accurate.\n",
      "  dual_coef = linalg.solve(K, y, sym_pos=True, overwrite_a=False)\n",
      "/Users/Aaditya/git/ds4420_nba_betting/.venv/lib/python3.8/site-packages/sklearn/linear_model/_ridge.py:194: LinAlgWarning: Ill-conditioned matrix (rcond=4.99056e-18): result may not be accurate.\n",
      "  dual_coef = linalg.solve(K, y, sym_pos=True, overwrite_a=False)\n",
      "/Users/Aaditya/git/ds4420_nba_betting/.venv/lib/python3.8/site-packages/sklearn/linear_model/_ridge.py:194: LinAlgWarning: Ill-conditioned matrix (rcond=9.23817e-17): result may not be accurate.\n",
      "  dual_coef = linalg.solve(K, y, sym_pos=True, overwrite_a=False)\n",
      "/Users/Aaditya/git/ds4420_nba_betting/.venv/lib/python3.8/site-packages/sklearn/linear_model/_ridge.py:196: UserWarning: Singular matrix in solving dual problem. Using least-squares solution instead.\n",
      "  warnings.warn(\n",
      "/Users/Aaditya/git/ds4420_nba_betting/.venv/lib/python3.8/site-packages/sklearn/linear_model/_ridge.py:196: UserWarning: Singular matrix in solving dual problem. Using least-squares solution instead.\n",
      "  warnings.warn(\n",
      "/Users/Aaditya/git/ds4420_nba_betting/.venv/lib/python3.8/site-packages/sklearn/linear_model/_ridge.py:196: UserWarning: Singular matrix in solving dual problem. Using least-squares solution instead.\n",
      "  warnings.warn(\n",
      "/Users/Aaditya/git/ds4420_nba_betting/.venv/lib/python3.8/site-packages/sklearn/linear_model/_ridge.py:196: UserWarning: Singular matrix in solving dual problem. Using least-squares solution instead.\n",
      "  warnings.warn(\n",
      "/Users/Aaditya/git/ds4420_nba_betting/.venv/lib/python3.8/site-packages/sklearn/linear_model/_ridge.py:196: UserWarning: Singular matrix in solving dual problem. Using least-squares solution instead.\n",
      "  warnings.warn(\n",
      "/Users/Aaditya/git/ds4420_nba_betting/.venv/lib/python3.8/site-packages/sklearn/linear_model/_ridge.py:196: UserWarning: Singular matrix in solving dual problem. Using least-squares solution instead.\n",
      "  warnings.warn(\n",
      "/Users/Aaditya/git/ds4420_nba_betting/.venv/lib/python3.8/site-packages/sklearn/model_selection/_validation.py:372: FitFailedWarning: \n",
      "24 fits failed out of a total of 108.\n",
      "The score on these train-test partitions for these parameters will be set to nan.\n",
      "If these failures are not expected, you can try to debug them by setting error_score='raise'.\n",
      "\n",
      "Below are more details about the failures:\n",
      "--------------------------------------------------------------------------------\n",
      "24 fits failed with the following error:\n",
      "Traceback (most recent call last):\n",
      "  File \"/Users/Aaditya/git/ds4420_nba_betting/.venv/lib/python3.8/site-packages/sklearn/model_selection/_validation.py\", line 680, in _fit_and_score\n",
      "    estimator.fit(X_train, y_train, **fit_params)\n",
      "  File \"/Users/Aaditya/git/ds4420_nba_betting/.venv/lib/python3.8/site-packages/sklearn/pipeline.py\", line 390, in fit\n",
      "    Xt = self._fit(X, y, **fit_params_steps)\n",
      "  File \"/Users/Aaditya/git/ds4420_nba_betting/.venv/lib/python3.8/site-packages/sklearn/pipeline.py\", line 348, in _fit\n",
      "    X, fitted_transformer = fit_transform_one_cached(\n",
      "  File \"/Users/Aaditya/git/ds4420_nba_betting/.venv/lib/python3.8/site-packages/joblib/memory.py\", line 349, in __call__\n",
      "    return self.func(*args, **kwargs)\n",
      "  File \"/Users/Aaditya/git/ds4420_nba_betting/.venv/lib/python3.8/site-packages/sklearn/pipeline.py\", line 893, in _fit_transform_one\n",
      "    res = transformer.fit_transform(X, y, **fit_params)\n",
      "  File \"/Users/Aaditya/git/ds4420_nba_betting/.venv/lib/python3.8/site-packages/sklearn/decomposition/_pca.py\", line 407, in fit_transform\n",
      "    U, S, Vt = self._fit(X)\n",
      "  File \"/Users/Aaditya/git/ds4420_nba_betting/.venv/lib/python3.8/site-packages/sklearn/decomposition/_pca.py\", line 457, in _fit\n",
      "    return self._fit_full(X, n_components)\n",
      "  File \"/Users/Aaditya/git/ds4420_nba_betting/.venv/lib/python3.8/site-packages/sklearn/decomposition/_pca.py\", line 471, in _fit_full\n",
      "    raise ValueError(\n",
      "ValueError: n_components='mle' is only supported if n_samples >= n_features\n",
      "\n",
      "  warnings.warn(some_fits_failed_message, FitFailedWarning)\n",
      "/Users/Aaditya/git/ds4420_nba_betting/.venv/lib/python3.8/site-packages/sklearn/model_selection/_search.py:969: UserWarning: One or more of the test scores are non-finite: [-1.08578577e+01 -1.08514044e+01 -1.08578577e+01 -1.08514044e+01\n",
      "             nan             nan             nan             nan\n",
      "             nan             nan             nan             nan\n",
      " -1.07794210e+01 -1.07947881e+01 -1.07794260e+01 -1.07948448e+01\n",
      " -1.07487333e+01 -1.13375524e+01 -1.07499967e+01 -1.13374219e+01\n",
      " -1.07637679e+01 -1.37756274e+01 -1.07632693e+01 -1.37756290e+01\n",
      "  5.70161079e-02  6.06431590e-02  5.70161079e-02  6.06431590e-02\n",
      " -2.25049020e+02 -2.83506749e+02 -2.25049020e+02 -2.83506749e+02\n",
      " -5.22408552e+04 -2.05636993e+03 -5.22408552e+04 -2.05636993e+03]\n",
      "  warnings.warn(\n"
     ]
    }
   ],
   "source": [
    "logger.info(\n",
    "    \"Training UnsupervisedEnsemble with: %r\", [model_name for model_name in NBA_MODELS]\n",
    ")\n",
    "\n",
    "logging.info(\n",
    "    \"Using Ridge as correction model and RandomForestRegressor as weights model\"\n",
    ")\n",
    "unsupervised_ensemble = UnsupervisedEnsemble(\n",
    "    models=[_() for _ in NBA_MODELS.values()],\n",
    "    correction_learner=GridSearchCV(\n",
    "        estimator=Pipeline(\n",
    "            [\n",
    "                (\"scale\", RobustScaler()),\n",
    "                (\"poly\", PolynomialFeatures()),\n",
    "                (\"pca\", PCA()),\n",
    "                (\"ridge\", Ridge(fit_intercept=False)),\n",
    "            ]\n",
    "        ),\n",
    "        cv=3,\n",
    "        param_grid=ridge_params,\n",
    "        n_jobs=4,\n",
    "    ),\n",
    "    weight_learner=GridSearchCV(\n",
    "        estimator=RandomForestRegressor(),\n",
    "        cv=3,\n",
    "        param_grid=random_forest_params,\n",
    "        n_jobs=4,\n",
    "    ),\n",
    ")\n",
    "unsupervised_ensemble.fit(X_train, y_train)\n"
   ]
  },
  {
   "cell_type": "code",
   "execution_count": 64,
   "id": "df17b7b4",
   "metadata": {},
   "outputs": [
    {
     "name": "stderr",
     "output_type": "stream",
     "text": [
      "INFO:nba_betting:correction model best params: {'pca': 'passthrough', 'poly__degree': 1, 'ridge__tol': 0.001, 'scale': 'passthrough'}\n",
      "INFO:nba_betting:weight model best params: {'ccp_alpha': 0, 'max_depth': 1, 'n_estimators': 10}\n"
     ]
    }
   ],
   "source": [
    "logger.info(\n",
    "    \"correction model best params: %r\",\n",
    "    unsupervised_ensemble.correction_model.best_params_,\n",
    ")\n",
    "logger.info(\n",
    "    \"weight model best params: %r\",\n",
    "    unsupervised_ensemble.weight_learner.best_params_,\n",
    ")"
   ]
  },
  {
   "cell_type": "markdown",
   "id": "7649a03b",
   "metadata": {},
   "source": [
    "##### Results"
   ]
  },
  {
   "cell_type": "code",
   "execution_count": 65,
   "id": "1ec0861d",
   "metadata": {},
   "outputs": [
    {
     "name": "stderr",
     "output_type": "stream",
     "text": [
      "INFO:nba_betting:Training set score: 0.6817063166529943\n",
      "INFO:nba_betting:              precision    recall  f1-score   support\n",
      "\n",
      "           L       0.69      0.67      0.68      1219\n",
      "           W       0.68      0.69      0.69      1219\n",
      "\n",
      "    accuracy                           0.68      2438\n",
      "   macro avg       0.68      0.68      0.68      2438\n",
      "weighted avg       0.68      0.68      0.68      2438\n",
      "\n"
     ]
    }
   ],
   "source": [
    "logger.info(\n",
    "    \"Training set score: %s\",\n",
    "    accuracy_score(y_train, unsupervised_ensemble.predict(X_train)),\n",
    ")\n",
    "logger.info(classification_report(y_train, unsupervised_ensemble.predict(X_train)))\n"
   ]
  },
  {
   "cell_type": "code",
   "execution_count": 66,
   "id": "e94ab114",
   "metadata": {},
   "outputs": [
    {
     "name": "stderr",
     "output_type": "stream",
     "text": [
      "INFO:nba_betting:Testing set score: 0.6374871266735325\n",
      "INFO:nba_betting:              precision    recall  f1-score   support\n",
      "\n",
      "           L       0.64      0.64      0.64       971\n",
      "           W       0.64      0.64      0.64       971\n",
      "\n",
      "    accuracy                           0.64      1942\n",
      "   macro avg       0.64      0.64      0.64      1942\n",
      "weighted avg       0.64      0.64      0.64      1942\n",
      "\n"
     ]
    }
   ],
   "source": [
    "logger.info(\n",
    "    \"Testing set score: %s\",\n",
    "    accuracy_score(y_test, unsupervised_ensemble.predict(X_test)),\n",
    ")\n",
    "logger.info(classification_report(y_test, unsupervised_ensemble.predict(X_test)))\n"
   ]
  },
  {
   "cell_type": "code",
   "execution_count": 67,
   "id": "b29f109e",
   "metadata": {},
   "outputs": [
    {
     "data": {
      "image/png": "[encoded data removed]",
      "text/plain": [
       "<Figure size 432x288 with 2 Axes>"
      ]
     },
     "metadata": {
      "needs_background": "light"
     },
     "output_type": "display_data"
    }
   ],
   "source": [
    "plot_conf_mat(y_train, unsupervised_ensemble.predict(X_train))"
   ]
  },
  {
   "cell_type": "code",
   "execution_count": 68,
   "id": "0c34954f",
   "metadata": {},
   "outputs": [
    {
     "data": {
      "image/png": "[encoded data removed]",
      "text/plain": [
       "<Figure size 432x288 with 2 Axes>"
      ]
     },
     "metadata": {
      "needs_background": "light"
     },
     "output_type": "display_data"
    }
   ],
   "source": [
    "plot_conf_mat(y_test, unsupervised_ensemble.predict(X_test))"
   ]
  },
  {
   "cell_type": "code",
   "execution_count": 74,
   "id": "2bf2c92f",
   "metadata": {},
   "outputs": [
    {
     "data": {
      "text/plain": [
       "Text(0, 0.5, 'True Positive Rate')"
      ]
     },
     "execution_count": 74,
     "metadata": {},
     "output_type": "execute_result"
    },
    {
     "data": {
      "image/png": "[encoded data removed]",
      "text/plain": [
       "<Figure size 432x288 with 1 Axes>"
      ]
     },
     "metadata": {
      "needs_background": "light"
     },
     "output_type": "display_data"
    }
   ],
   "source": [
    "# ROC Curve\n",
    "\n",
    "unsupervised_ensemble_pred_proba = unsupervised_ensemble.predict_proba(X_test).values[::,0]\n",
    "fpr, tpr, _ = roc_curve(y_test, unsupervised_ensemble_pred_proba, pos_label=\"W\")\n",
    "auc = roc_auc_score(y_test, unsupervised_ensemble_pred_proba)\n",
    "plt.plot(fpr,tpr,label=\"auc=\"+str(auc))\n",
    "plt.xlabel('False Positive Rate')\n",
    "plt.ylabel('True Positive Rate')"
   ]
  },
  {
   "cell_type": "markdown",
   "id": "2945483c",
   "metadata": {},
   "source": [
    "## Unsupervised Ensemble with\n",
    "\n",
    "#### Ridge regression as correction and weights model"
   ]
  },
  {
   "cell_type": "code",
   "execution_count": 24,
   "id": "b88a2115",
   "metadata": {},
   "outputs": [
    {
     "name": "stderr",
     "output_type": "stream",
     "text": [
      "INFO:nba_betting:Training UnsupervisedEnsemble with: ['defence_logistic_regression', 'offence_logistic_regression', 'efficiency_logistic_regression', 'general_logistic_regression', 'shooting_logistic_regression', 'defence_gaussian_naive_bayes', 'offence_gaussian_naive_bayes', 'efficiency_gaussian_naive_bayes', 'general_gaussian_naive_bayes', 'defence_random_forest', 'offence_random_forest', 'efficiency_random_forest']\n",
      "INFO:root:Using Ridge as correction model and as weights model\n",
      "/Users/Aaditya/git/ds4420_nba_betting/.venv/lib/python3.8/site-packages/sklearn/linear_model/_logistic.py:814: ConvergenceWarning: lbfgs failed to converge (status=1):\n",
      "STOP: TOTAL NO. of ITERATIONS REACHED LIMIT.\n",
      "\n",
      "Increase the number of iterations (max_iter) or scale the data as shown in:\n",
      "    https://scikit-learn.org/stable/modules/preprocessing.html\n",
      "Please also refer to the documentation for alternative solver options:\n",
      "    https://scikit-learn.org/stable/modules/linear_model.html#logistic-regression\n",
      "  n_iter_i = _check_optimize_result(\n",
      "/Users/Aaditya/git/ds4420_nba_betting/.venv/lib/python3.8/site-packages/joblib/externals/loky/process_executor.py:702: UserWarning: A worker stopped while some jobs were given to the executor. This can be caused by a too short worker timeout or by a memory leak.\n",
      "  warnings.warn(\n",
      "/Users/Aaditya/git/ds4420_nba_betting/.venv/lib/python3.8/site-packages/sklearn/linear_model/_ridge.py:194: LinAlgWarning: Ill-conditioned matrix (rcond=4.11493e-18): result may not be accurate.\n",
      "  dual_coef = linalg.solve(K, y, sym_pos=True, overwrite_a=False)\n",
      "/Users/Aaditya/git/ds4420_nba_betting/.venv/lib/python3.8/site-packages/sklearn/linear_model/_ridge.py:194: LinAlgWarning: Ill-conditioned matrix (rcond=4.99056e-18): result may not be accurate.\n",
      "  dual_coef = linalg.solve(K, y, sym_pos=True, overwrite_a=False)\n",
      "/Users/Aaditya/git/ds4420_nba_betting/.venv/lib/python3.8/site-packages/sklearn/linear_model/_ridge.py:194: LinAlgWarning: Ill-conditioned matrix (rcond=9.23817e-17): result may not be accurate.\n",
      "  dual_coef = linalg.solve(K, y, sym_pos=True, overwrite_a=False)\n",
      "/Users/Aaditya/git/ds4420_nba_betting/.venv/lib/python3.8/site-packages/sklearn/linear_model/_ridge.py:194: LinAlgWarning: Ill-conditioned matrix (rcond=4.11493e-18): result may not be accurate.\n",
      "  dual_coef = linalg.solve(K, y, sym_pos=True, overwrite_a=False)\n",
      "/Users/Aaditya/git/ds4420_nba_betting/.venv/lib/python3.8/site-packages/sklearn/linear_model/_ridge.py:194: LinAlgWarning: Ill-conditioned matrix (rcond=4.99056e-18): result may not be accurate.\n",
      "  dual_coef = linalg.solve(K, y, sym_pos=True, overwrite_a=False)\n",
      "/Users/Aaditya/git/ds4420_nba_betting/.venv/lib/python3.8/site-packages/sklearn/linear_model/_ridge.py:194: LinAlgWarning: Ill-conditioned matrix (rcond=9.23817e-17): result may not be accurate.\n",
      "  dual_coef = linalg.solve(K, y, sym_pos=True, overwrite_a=False)\n",
      "/Users/Aaditya/git/ds4420_nba_betting/.venv/lib/python3.8/site-packages/sklearn/linear_model/_ridge.py:196: UserWarning: Singular matrix in solving dual problem. Using least-squares solution instead.\n",
      "  warnings.warn(\n",
      "/Users/Aaditya/git/ds4420_nba_betting/.venv/lib/python3.8/site-packages/sklearn/linear_model/_ridge.py:196: UserWarning: Singular matrix in solving dual problem. Using least-squares solution instead.\n",
      "  warnings.warn(\n",
      "/Users/Aaditya/git/ds4420_nba_betting/.venv/lib/python3.8/site-packages/sklearn/linear_model/_ridge.py:196: UserWarning: Singular matrix in solving dual problem. Using least-squares solution instead.\n",
      "  warnings.warn(\n",
      "/Users/Aaditya/git/ds4420_nba_betting/.venv/lib/python3.8/site-packages/sklearn/linear_model/_ridge.py:196: UserWarning: Singular matrix in solving dual problem. Using least-squares solution instead.\n",
      "  warnings.warn(\n",
      "/Users/Aaditya/git/ds4420_nba_betting/.venv/lib/python3.8/site-packages/sklearn/linear_model/_ridge.py:196: UserWarning: Singular matrix in solving dual problem. Using least-squares solution instead.\n",
      "  warnings.warn(\n",
      "/Users/Aaditya/git/ds4420_nba_betting/.venv/lib/python3.8/site-packages/sklearn/linear_model/_ridge.py:196: UserWarning: Singular matrix in solving dual problem. Using least-squares solution instead.\n",
      "  warnings.warn(\n",
      "/Users/Aaditya/git/ds4420_nba_betting/.venv/lib/python3.8/site-packages/sklearn/model_selection/_validation.py:372: FitFailedWarning: \n",
      "24 fits failed out of a total of 108.\n",
      "The score on these train-test partitions for these parameters will be set to nan.\n",
      "If these failures are not expected, you can try to debug them by setting error_score='raise'.\n",
      "\n",
      "Below are more details about the failures:\n",
      "--------------------------------------------------------------------------------\n",
      "24 fits failed with the following error:\n",
      "Traceback (most recent call last):\n",
      "  File \"/Users/Aaditya/git/ds4420_nba_betting/.venv/lib/python3.8/site-packages/sklearn/model_selection/_validation.py\", line 680, in _fit_and_score\n",
      "    estimator.fit(X_train, y_train, **fit_params)\n",
      "  File \"/Users/Aaditya/git/ds4420_nba_betting/.venv/lib/python3.8/site-packages/sklearn/pipeline.py\", line 390, in fit\n",
      "    Xt = self._fit(X, y, **fit_params_steps)\n",
      "  File \"/Users/Aaditya/git/ds4420_nba_betting/.venv/lib/python3.8/site-packages/sklearn/pipeline.py\", line 348, in _fit\n",
      "    X, fitted_transformer = fit_transform_one_cached(\n",
      "  File \"/Users/Aaditya/git/ds4420_nba_betting/.venv/lib/python3.8/site-packages/joblib/memory.py\", line 349, in __call__\n",
      "    return self.func(*args, **kwargs)\n",
      "  File \"/Users/Aaditya/git/ds4420_nba_betting/.venv/lib/python3.8/site-packages/sklearn/pipeline.py\", line 893, in _fit_transform_one\n",
      "    res = transformer.fit_transform(X, y, **fit_params)\n",
      "  File \"/Users/Aaditya/git/ds4420_nba_betting/.venv/lib/python3.8/site-packages/sklearn/decomposition/_pca.py\", line 407, in fit_transform\n",
      "    U, S, Vt = self._fit(X)\n",
      "  File \"/Users/Aaditya/git/ds4420_nba_betting/.venv/lib/python3.8/site-packages/sklearn/decomposition/_pca.py\", line 457, in _fit\n",
      "    return self._fit_full(X, n_components)\n",
      "  File \"/Users/Aaditya/git/ds4420_nba_betting/.venv/lib/python3.8/site-packages/sklearn/decomposition/_pca.py\", line 471, in _fit_full\n",
      "    raise ValueError(\n",
      "ValueError: n_components='mle' is only supported if n_samples >= n_features\n",
      "\n",
      "  warnings.warn(some_fits_failed_message, FitFailedWarning)\n",
      "/Users/Aaditya/git/ds4420_nba_betting/.venv/lib/python3.8/site-packages/sklearn/model_selection/_search.py:969: UserWarning: One or more of the test scores are non-finite: [-1.08345872e+01 -1.08454308e+01 -1.08345872e+01 -1.08454308e+01\n",
      "             nan             nan             nan             nan\n",
      "             nan             nan             nan             nan\n",
      " -1.08016760e+01 -1.08234292e+01 -1.08016720e+01 -1.08234473e+01\n",
      " -1.07533656e+01 -1.26029385e+01 -1.07552593e+01 -1.26031363e+01\n",
      " -1.07661909e+01 -1.75801560e+01 -1.07665402e+01 -1.75801065e+01\n",
      "  5.76375520e-02  6.20658716e-02  5.76375520e-02  6.20658716e-02\n",
      " -2.26993115e+02 -2.82322611e+02 -2.26993115e+02 -2.82322611e+02\n",
      " -5.22370915e+04 -2.05691347e+03 -5.22370915e+04 -2.05691347e+03]\n",
      "  warnings.warn(\n",
      "/Users/Aaditya/git/ds4420_nba_betting/.venv/lib/python3.8/site-packages/joblib/externals/loky/process_executor.py:702: UserWarning: A worker stopped while some jobs were given to the executor. This can be caused by a too short worker timeout or by a memory leak.\n",
      "  warnings.warn(\n",
      "/Users/Aaditya/git/ds4420_nba_betting/.venv/lib/python3.8/site-packages/sklearn/linear_model/_ridge.py:194: LinAlgWarning: Ill-conditioned matrix (rcond=4.11493e-18): result may not be accurate.\n",
      "  dual_coef = linalg.solve(K, y, sym_pos=True, overwrite_a=False)\n",
      "/Users/Aaditya/git/ds4420_nba_betting/.venv/lib/python3.8/site-packages/sklearn/linear_model/_ridge.py:194: LinAlgWarning: Ill-conditioned matrix (rcond=4.99056e-18): result may not be accurate.\n",
      "  dual_coef = linalg.solve(K, y, sym_pos=True, overwrite_a=False)\n",
      "/Users/Aaditya/git/ds4420_nba_betting/.venv/lib/python3.8/site-packages/sklearn/linear_model/_ridge.py:194: LinAlgWarning: Ill-conditioned matrix (rcond=9.23817e-17): result may not be accurate.\n",
      "  dual_coef = linalg.solve(K, y, sym_pos=True, overwrite_a=False)\n",
      "/Users/Aaditya/git/ds4420_nba_betting/.venv/lib/python3.8/site-packages/sklearn/linear_model/_ridge.py:194: LinAlgWarning: Ill-conditioned matrix (rcond=4.11493e-18): result may not be accurate.\n",
      "  dual_coef = linalg.solve(K, y, sym_pos=True, overwrite_a=False)\n",
      "/Users/Aaditya/git/ds4420_nba_betting/.venv/lib/python3.8/site-packages/sklearn/linear_model/_ridge.py:194: LinAlgWarning: Ill-conditioned matrix (rcond=4.99056e-18): result may not be accurate.\n",
      "  dual_coef = linalg.solve(K, y, sym_pos=True, overwrite_a=False)\n",
      "/Users/Aaditya/git/ds4420_nba_betting/.venv/lib/python3.8/site-packages/sklearn/linear_model/_ridge.py:194: LinAlgWarning: Ill-conditioned matrix (rcond=9.23817e-17): result may not be accurate.\n",
      "  dual_coef = linalg.solve(K, y, sym_pos=True, overwrite_a=False)\n",
      "/Users/Aaditya/git/ds4420_nba_betting/.venv/lib/python3.8/site-packages/sklearn/linear_model/_ridge.py:196: UserWarning: Singular matrix in solving dual problem. Using least-squares solution instead.\n",
      "  warnings.warn(\n",
      "/Users/Aaditya/git/ds4420_nba_betting/.venv/lib/python3.8/site-packages/sklearn/linear_model/_ridge.py:196: UserWarning: Singular matrix in solving dual problem. Using least-squares solution instead.\n",
      "  warnings.warn(\n",
      "/Users/Aaditya/git/ds4420_nba_betting/.venv/lib/python3.8/site-packages/sklearn/linear_model/_ridge.py:196: UserWarning: Singular matrix in solving dual problem. Using least-squares solution instead.\n",
      "  warnings.warn(\n",
      "/Users/Aaditya/git/ds4420_nba_betting/.venv/lib/python3.8/site-packages/sklearn/linear_model/_ridge.py:196: UserWarning: Singular matrix in solving dual problem. Using least-squares solution instead.\n",
      "  warnings.warn(\n",
      "/Users/Aaditya/git/ds4420_nba_betting/.venv/lib/python3.8/site-packages/sklearn/linear_model/_ridge.py:196: UserWarning: Singular matrix in solving dual problem. Using least-squares solution instead.\n",
      "  warnings.warn(\n",
      "/Users/Aaditya/git/ds4420_nba_betting/.venv/lib/python3.8/site-packages/sklearn/linear_model/_ridge.py:196: UserWarning: Singular matrix in solving dual problem. Using least-squares solution instead.\n",
      "  warnings.warn(\n",
      "/Users/Aaditya/git/ds4420_nba_betting/.venv/lib/python3.8/site-packages/sklearn/model_selection/_validation.py:372: FitFailedWarning: \n",
      "24 fits failed out of a total of 108.\n",
      "The score on these train-test partitions for these parameters will be set to nan.\n",
      "If these failures are not expected, you can try to debug them by setting error_score='raise'.\n",
      "\n",
      "Below are more details about the failures:\n",
      "--------------------------------------------------------------------------------\n",
      "24 fits failed with the following error:\n",
      "Traceback (most recent call last):\n",
      "  File \"/Users/Aaditya/git/ds4420_nba_betting/.venv/lib/python3.8/site-packages/sklearn/model_selection/_validation.py\", line 680, in _fit_and_score\n",
      "    estimator.fit(X_train, y_train, **fit_params)\n",
      "  File \"/Users/Aaditya/git/ds4420_nba_betting/.venv/lib/python3.8/site-packages/sklearn/pipeline.py\", line 390, in fit\n",
      "    Xt = self._fit(X, y, **fit_params_steps)\n",
      "  File \"/Users/Aaditya/git/ds4420_nba_betting/.venv/lib/python3.8/site-packages/sklearn/pipeline.py\", line 348, in _fit\n",
      "    X, fitted_transformer = fit_transform_one_cached(\n",
      "  File \"/Users/Aaditya/git/ds4420_nba_betting/.venv/lib/python3.8/site-packages/joblib/memory.py\", line 349, in __call__\n",
      "    return self.func(*args, **kwargs)\n",
      "  File \"/Users/Aaditya/git/ds4420_nba_betting/.venv/lib/python3.8/site-packages/sklearn/pipeline.py\", line 893, in _fit_transform_one\n",
      "    res = transformer.fit_transform(X, y, **fit_params)\n",
      "  File \"/Users/Aaditya/git/ds4420_nba_betting/.venv/lib/python3.8/site-packages/sklearn/decomposition/_pca.py\", line 407, in fit_transform\n",
      "    U, S, Vt = self._fit(X)\n",
      "  File \"/Users/Aaditya/git/ds4420_nba_betting/.venv/lib/python3.8/site-packages/sklearn/decomposition/_pca.py\", line 457, in _fit\n",
      "    return self._fit_full(X, n_components)\n",
      "  File \"/Users/Aaditya/git/ds4420_nba_betting/.venv/lib/python3.8/site-packages/sklearn/decomposition/_pca.py\", line 471, in _fit_full\n",
      "    raise ValueError(\n",
      "ValueError: n_components='mle' is only supported if n_samples >= n_features\n",
      "\n",
      "  warnings.warn(some_fits_failed_message, FitFailedWarning)\n",
      "/Users/Aaditya/git/ds4420_nba_betting/.venv/lib/python3.8/site-packages/sklearn/model_selection/_search.py:969: UserWarning: One or more of the test scores are non-finite: [-4.30113937e+03 -4.93781063e+03 -4.30113937e+03 -4.93781063e+03\n",
      "             nan             nan             nan             nan\n",
      "             nan             nan             nan             nan\n",
      " -2.07821643e+03 -2.73782682e+03 -2.07818093e+03 -2.75115624e+03\n",
      " -8.58696529e+02 -1.09437277e+04 -8.35503688e+02 -1.09508341e+04\n",
      " -5.76133185e+02 -3.45875449e+04 -5.93767671e+02 -3.45853275e+04\n",
      " -4.50520347e+03 -5.10255101e+03 -4.50520347e+03 -5.10255101e+03\n",
      " -3.48356206e+06 -1.69288106e+07 -3.48356206e+06 -1.69288106e+07\n",
      " -3.12200145e+08 -3.35383151e+08 -3.12200145e+08 -3.35383151e+08]\n",
      "  warnings.warn(\n"
     ]
    }
   ],
   "source": [
    "logger.info(\n",
    "    \"Training UnsupervisedEnsemble with: %r\", [model_name for model_name in NBA_MODELS]\n",
    ")\n",
    "\n",
    "logging.info(\n",
    "    \"Using Ridge as correction model and as weights model\"\n",
    ")\n",
    "unsupervised_ensemble = UnsupervisedEnsemble(\n",
    "    models=[_() for _ in NBA_MODELS.values()],\n",
    "    correction_learner=GridSearchCV(\n",
    "        estimator=Pipeline(\n",
    "            [\n",
    "                (\"scale\", RobustScaler()),\n",
    "                (\"poly\", PolynomialFeatures()),\n",
    "                (\"pca\", PCA()),\n",
    "                (\"ridge\", Ridge(fit_intercept=False)),\n",
    "            ]\n",
    "        ),\n",
    "        cv=3,\n",
    "        param_grid=ridge_params,\n",
    "        n_jobs=4,\n",
    "    ),\n",
    "    weight_learner=GridSearchCV(\n",
    "        estimator=Pipeline(\n",
    "            [\n",
    "                (\"scale\", RobustScaler()),\n",
    "                (\"poly\", PolynomialFeatures()),\n",
    "                (\"pca\", PCA()),\n",
    "                (\"ridge\", Ridge(fit_intercept=False)),\n",
    "            ]\n",
    "        ),\n",
    "        cv=3,\n",
    "        param_grid=ridge_params,\n",
    "        n_jobs=4,\n",
    "    ),\n",
    ")\n",
    "unsupervised_ensemble.fit(X_train, y_train)\n"
   ]
  },
  {
   "cell_type": "code",
   "execution_count": 29,
   "id": "f7b2998e",
   "metadata": {},
   "outputs": [
    {
     "name": "stderr",
     "output_type": "stream",
     "text": [
      "INFO:nba_betting:correction model best params: {'pca': 'passthrough', 'poly__degree': 1, 'ridge__tol': 0.001, 'scale': 'passthrough'}\n",
      "INFO:nba_betting:weight model best params: {'pca': PCA(n_components=40), 'poly__degree': 3, 'ridge__tol': 0.001, 'scale': RobustScaler()}\n"
     ]
    }
   ],
   "source": [
    "logger.info(\n",
    "    \"correction model best params: %r\",\n",
    "    unsupervised_ensemble.correction_model.best_params_,\n",
    ")\n",
    "logger.info(\n",
    "    \"weight model best params: %r\",\n",
    "    unsupervised_ensemble.weight_learner.best_params_,\n",
    ")"
   ]
  },
  {
   "cell_type": "code",
   "execution_count": 25,
   "id": "147fc344",
   "metadata": {},
   "outputs": [
    {
     "name": "stderr",
     "output_type": "stream",
     "text": [
      "INFO:nba_betting:Training set score: 0.5607054963084496\n",
      "INFO:nba_betting:              precision    recall  f1-score   support\n",
      "\n",
      "           L       0.56      0.56      0.56      1219\n",
      "           W       0.56      0.56      0.56      1219\n",
      "\n",
      "    accuracy                           0.56      2438\n",
      "   macro avg       0.56      0.56      0.56      2438\n",
      "weighted avg       0.56      0.56      0.56      2438\n",
      "\n"
     ]
    }
   ],
   "source": [
    "logger.info(\n",
    "    \"Training set score: %s\",\n",
    "    accuracy_score(y_train, unsupervised_ensemble.predict(X_train)),\n",
    ")\n",
    "logger.info(classification_report(y_train, unsupervised_ensemble.predict(X_train)))\n"
   ]
  },
  {
   "cell_type": "code",
   "execution_count": 26,
   "id": "a2c42989",
   "metadata": {},
   "outputs": [
    {
     "name": "stderr",
     "output_type": "stream",
     "text": [
      "INFO:nba_betting:Testing set score: 0.6179196704428425\n",
      "INFO:nba_betting:              precision    recall  f1-score   support\n",
      "\n",
      "           L       0.62      0.63      0.62       971\n",
      "           W       0.62      0.61      0.61       971\n",
      "\n",
      "    accuracy                           0.62      1942\n",
      "   macro avg       0.62      0.62      0.62      1942\n",
      "weighted avg       0.62      0.62      0.62      1942\n",
      "\n"
     ]
    }
   ],
   "source": [
    "logger.info(\n",
    "    \"Testing set score: %s\",\n",
    "    accuracy_score(y_test, unsupervised_ensemble.predict(X_test)),\n",
    ")\n",
    "logger.info(classification_report(y_test, unsupervised_ensemble.predict(X_test)))\n"
   ]
  },
  {
   "cell_type": "code",
   "execution_count": 27,
   "id": "82b38ce4",
   "metadata": {},
   "outputs": [
    {
     "data": {
      "image/png": "[encoded data removed]",
      "text/plain": [
       "<Figure size 432x288 with 2 Axes>"
      ]
     },
     "metadata": {
      "needs_background": "light"
     },
     "output_type": "display_data"
    }
   ],
   "source": [
    "plot_conf_mat(y_train, unsupervised_ensemble.predict(X_train))"
   ]
  },
  {
   "cell_type": "code",
   "execution_count": 28,
   "id": "769b01b2",
   "metadata": {},
   "outputs": [
    {
     "data": {
      "image/png": "[encoded data removed]",
      "text/plain": [
       "<Figure size 432x288 with 2 Axes>"
      ]
     },
     "metadata": {
      "needs_background": "light"
     },
     "output_type": "display_data"
    }
   ],
   "source": [
    "plot_conf_mat(y_test, unsupervised_ensemble.predict(X_test))"
   ]
  },
  {
   "cell_type": "markdown",
   "id": "27525204",
   "metadata": {},
   "source": [
    "## Unsupervised Ensemble with\n",
    "\n",
    "#### RandomForestRegressor as correction and weights model"
   ]
  },
  {
   "cell_type": "code",
   "execution_count": 30,
   "id": "78475771",
   "metadata": {},
   "outputs": [
    {
     "name": "stderr",
     "output_type": "stream",
     "text": [
      "INFO:nba_betting:Training UnsupervisedEnsemble with: ['defence_logistic_regression', 'offence_logistic_regression', 'efficiency_logistic_regression', 'general_logistic_regression', 'shooting_logistic_regression', 'defence_gaussian_naive_bayes', 'offence_gaussian_naive_bayes', 'efficiency_gaussian_naive_bayes', 'general_gaussian_naive_bayes', 'defence_random_forest', 'offence_random_forest', 'efficiency_random_forest']\n",
      "INFO:root:Using RandomForestRegressor as correction and weights model\n",
      "/Users/Aaditya/git/ds4420_nba_betting/.venv/lib/python3.8/site-packages/sklearn/linear_model/_logistic.py:814: ConvergenceWarning: lbfgs failed to converge (status=1):\n",
      "STOP: TOTAL NO. of ITERATIONS REACHED LIMIT.\n",
      "\n",
      "Increase the number of iterations (max_iter) or scale the data as shown in:\n",
      "    https://scikit-learn.org/stable/modules/preprocessing.html\n",
      "Please also refer to the documentation for alternative solver options:\n",
      "    https://scikit-learn.org/stable/modules/linear_model.html#logistic-regression\n",
      "  n_iter_i = _check_optimize_result(\n"
     ]
    }
   ],
   "source": [
    "logger.info(\n",
    "    \"Training UnsupervisedEnsemble with: %r\", [model_name for model_name in NBA_MODELS]\n",
    ")\n",
    "\n",
    "logging.info(\n",
    "    \"Using RandomForestRegressor as correction and weights model\"\n",
    ")\n",
    "unsupervised_ensemble = UnsupervisedEnsemble(\n",
    "    models=[_() for _ in NBA_MODELS.values()],\n",
    "    correction_learner=GridSearchCV(\n",
    "        estimator=RandomForestRegressor(),\n",
    "        cv=3,\n",
    "        param_grid=random_forest_params,\n",
    "        n_jobs=4,\n",
    "    ),\n",
    "    weight_learner=GridSearchCV(\n",
    "        estimator=RandomForestRegressor(),\n",
    "        cv=3,\n",
    "        param_grid=random_forest_params,\n",
    "        n_jobs=4,\n",
    "    ),\n",
    ")\n",
    "unsupervised_ensemble.fit(X_train, y_train)\n"
   ]
  },
  {
   "cell_type": "code",
   "execution_count": 31,
   "id": "7bc30d61",
   "metadata": {},
   "outputs": [
    {
     "name": "stderr",
     "output_type": "stream",
     "text": [
      "INFO:nba_betting:correction model best params: {'ccp_alpha': 0, 'max_depth': 3, 'n_estimators': 50}\n",
      "INFO:nba_betting:weight model best params: {'ccp_alpha': 0, 'max_depth': 1, 'n_estimators': 10}\n"
     ]
    }
   ],
   "source": [
    "logger.info(\n",
    "    \"correction model best params: %r\",\n",
    "    unsupervised_ensemble.correction_model.best_params_,\n",
    ")\n",
    "logger.info(\n",
    "    \"weight model best params: %r\",\n",
    "    unsupervised_ensemble.weight_learner.best_params_,\n",
    ")"
   ]
  },
  {
   "cell_type": "code",
   "execution_count": 32,
   "id": "c29dbac9",
   "metadata": {},
   "outputs": [
    {
     "name": "stderr",
     "output_type": "stream",
     "text": [
      "INFO:nba_betting:Training set score: 0.6558654634946678\n",
      "INFO:nba_betting:              precision    recall  f1-score   support\n",
      "\n",
      "           L       0.66      0.65      0.66      1219\n",
      "           W       0.66      0.66      0.66      1219\n",
      "\n",
      "    accuracy                           0.66      2438\n",
      "   macro avg       0.66      0.66      0.66      2438\n",
      "weighted avg       0.66      0.66      0.66      2438\n",
      "\n"
     ]
    }
   ],
   "source": [
    "logger.info(\n",
    "    \"Training set score: %s\",\n",
    "    accuracy_score(y_train, unsupervised_ensemble.predict(X_train)),\n",
    ")\n",
    "logger.info(classification_report(y_train, unsupervised_ensemble.predict(X_train)))\n"
   ]
  },
  {
   "cell_type": "code",
   "execution_count": 33,
   "id": "68ec8283",
   "metadata": {},
   "outputs": [
    {
     "name": "stderr",
     "output_type": "stream",
     "text": [
      "INFO:nba_betting:Testing set score: 0.641091658084449\n",
      "INFO:nba_betting:              precision    recall  f1-score   support\n",
      "\n",
      "           L       0.65      0.62      0.63       971\n",
      "           W       0.64      0.66      0.65       971\n",
      "\n",
      "    accuracy                           0.64      1942\n",
      "   macro avg       0.64      0.64      0.64      1942\n",
      "weighted avg       0.64      0.64      0.64      1942\n",
      "\n"
     ]
    }
   ],
   "source": [
    "logger.info(\n",
    "    \"Testing set score: %s\",\n",
    "    accuracy_score(y_test, unsupervised_ensemble.predict(X_test)),\n",
    ")\n",
    "logger.info(classification_report(y_test, unsupervised_ensemble.predict(X_test)))\n"
   ]
  },
  {
   "cell_type": "code",
   "execution_count": 34,
   "id": "a14cbfae",
   "metadata": {},
   "outputs": [
    {
     "data": {
      "image/png": "[encoded data removed]",
      "text/plain": [
       "<Figure size 432x288 with 2 Axes>"
      ]
     },
     "metadata": {
      "needs_background": "light"
     },
     "output_type": "display_data"
    }
   ],
   "source": [
    "plot_conf_mat(y_train, unsupervised_ensemble.predict(X_train))"
   ]
  },
  {
   "cell_type": "code",
   "execution_count": 35,
   "id": "69e027b7",
   "metadata": {},
   "outputs": [
    {
     "data": {
      "image/png": "[encoded data removed]",
      "text/plain": [
       "<Figure size 432x288 with 2 Axes>"
      ]
     },
     "metadata": {
      "needs_background": "light"
     },
     "output_type": "display_data"
    }
   ],
   "source": [
    "plot_conf_mat(y_test, unsupervised_ensemble.predict(X_test))"
   ]
  },
  {
   "cell_type": "markdown",
   "id": "7e030cc4",
   "metadata": {},
   "source": [
    "## Unsupervised Ensemble with\n",
    "\n",
    "#### RandomForestRegressor as correction model and Ridge regression as weights model"
   ]
  },
  {
   "cell_type": "code",
   "execution_count": 36,
   "id": "28f206ad",
   "metadata": {},
   "outputs": [
    {
     "name": "stderr",
     "output_type": "stream",
     "text": [
      "INFO:nba_betting:Training UnsupervisedEnsemble with: ['defence_logistic_regression', 'offence_logistic_regression', 'efficiency_logistic_regression', 'general_logistic_regression', 'shooting_logistic_regression', 'defence_gaussian_naive_bayes', 'offence_gaussian_naive_bayes', 'efficiency_gaussian_naive_bayes', 'general_gaussian_naive_bayes', 'defence_random_forest', 'offence_random_forest', 'efficiency_random_forest']\n",
      "INFO:root:Using RandomForestRegressor as correction model and Ridge as weights model\n",
      "/Users/Aaditya/git/ds4420_nba_betting/.venv/lib/python3.8/site-packages/sklearn/linear_model/_logistic.py:814: ConvergenceWarning: lbfgs failed to converge (status=1):\n",
      "STOP: TOTAL NO. of ITERATIONS REACHED LIMIT.\n",
      "\n",
      "Increase the number of iterations (max_iter) or scale the data as shown in:\n",
      "    https://scikit-learn.org/stable/modules/preprocessing.html\n",
      "Please also refer to the documentation for alternative solver options:\n",
      "    https://scikit-learn.org/stable/modules/linear_model.html#logistic-regression\n",
      "  n_iter_i = _check_optimize_result(\n",
      "/Users/Aaditya/git/ds4420_nba_betting/.venv/lib/python3.8/site-packages/joblib/externals/loky/process_executor.py:702: UserWarning: A worker stopped while some jobs were given to the executor. This can be caused by a too short worker timeout or by a memory leak.\n",
      "  warnings.warn(\n",
      "/Users/Aaditya/git/ds4420_nba_betting/.venv/lib/python3.8/site-packages/sklearn/linear_model/_ridge.py:194: LinAlgWarning: Ill-conditioned matrix (rcond=4.11493e-18): result may not be accurate.\n",
      "  dual_coef = linalg.solve(K, y, sym_pos=True, overwrite_a=False)\n",
      "/Users/Aaditya/git/ds4420_nba_betting/.venv/lib/python3.8/site-packages/sklearn/linear_model/_ridge.py:194: LinAlgWarning: Ill-conditioned matrix (rcond=4.99056e-18): result may not be accurate.\n",
      "  dual_coef = linalg.solve(K, y, sym_pos=True, overwrite_a=False)\n",
      "/Users/Aaditya/git/ds4420_nba_betting/.venv/lib/python3.8/site-packages/sklearn/linear_model/_ridge.py:194: LinAlgWarning: Ill-conditioned matrix (rcond=9.23817e-17): result may not be accurate.\n",
      "  dual_coef = linalg.solve(K, y, sym_pos=True, overwrite_a=False)\n",
      "/Users/Aaditya/git/ds4420_nba_betting/.venv/lib/python3.8/site-packages/sklearn/linear_model/_ridge.py:194: LinAlgWarning: Ill-conditioned matrix (rcond=4.11493e-18): result may not be accurate.\n",
      "  dual_coef = linalg.solve(K, y, sym_pos=True, overwrite_a=False)\n",
      "/Users/Aaditya/git/ds4420_nba_betting/.venv/lib/python3.8/site-packages/sklearn/linear_model/_ridge.py:194: LinAlgWarning: Ill-conditioned matrix (rcond=4.99056e-18): result may not be accurate.\n",
      "  dual_coef = linalg.solve(K, y, sym_pos=True, overwrite_a=False)\n",
      "/Users/Aaditya/git/ds4420_nba_betting/.venv/lib/python3.8/site-packages/sklearn/linear_model/_ridge.py:194: LinAlgWarning: Ill-conditioned matrix (rcond=9.23817e-17): result may not be accurate.\n",
      "  dual_coef = linalg.solve(K, y, sym_pos=True, overwrite_a=False)\n",
      "/Users/Aaditya/git/ds4420_nba_betting/.venv/lib/python3.8/site-packages/sklearn/linear_model/_ridge.py:196: UserWarning: Singular matrix in solving dual problem. Using least-squares solution instead.\n",
      "  warnings.warn(\n",
      "/Users/Aaditya/git/ds4420_nba_betting/.venv/lib/python3.8/site-packages/sklearn/linear_model/_ridge.py:196: UserWarning: Singular matrix in solving dual problem. Using least-squares solution instead.\n",
      "  warnings.warn(\n",
      "/Users/Aaditya/git/ds4420_nba_betting/.venv/lib/python3.8/site-packages/sklearn/linear_model/_ridge.py:196: UserWarning: Singular matrix in solving dual problem. Using least-squares solution instead.\n",
      "  warnings.warn(\n",
      "/Users/Aaditya/git/ds4420_nba_betting/.venv/lib/python3.8/site-packages/sklearn/linear_model/_ridge.py:196: UserWarning: Singular matrix in solving dual problem. Using least-squares solution instead.\n",
      "  warnings.warn(\n",
      "/Users/Aaditya/git/ds4420_nba_betting/.venv/lib/python3.8/site-packages/sklearn/linear_model/_ridge.py:196: UserWarning: Singular matrix in solving dual problem. Using least-squares solution instead.\n",
      "  warnings.warn(\n",
      "/Users/Aaditya/git/ds4420_nba_betting/.venv/lib/python3.8/site-packages/sklearn/linear_model/_ridge.py:196: UserWarning: Singular matrix in solving dual problem. Using least-squares solution instead.\n",
      "  warnings.warn(\n",
      "/Users/Aaditya/git/ds4420_nba_betting/.venv/lib/python3.8/site-packages/sklearn/model_selection/_validation.py:372: FitFailedWarning: \n",
      "24 fits failed out of a total of 108.\n",
      "The score on these train-test partitions for these parameters will be set to nan.\n",
      "If these failures are not expected, you can try to debug them by setting error_score='raise'.\n",
      "\n",
      "Below are more details about the failures:\n",
      "--------------------------------------------------------------------------------\n",
      "24 fits failed with the following error:\n",
      "Traceback (most recent call last):\n",
      "  File \"/Users/Aaditya/git/ds4420_nba_betting/.venv/lib/python3.8/site-packages/sklearn/model_selection/_validation.py\", line 680, in _fit_and_score\n",
      "    estimator.fit(X_train, y_train, **fit_params)\n",
      "  File \"/Users/Aaditya/git/ds4420_nba_betting/.venv/lib/python3.8/site-packages/sklearn/pipeline.py\", line 390, in fit\n",
      "    Xt = self._fit(X, y, **fit_params_steps)\n",
      "  File \"/Users/Aaditya/git/ds4420_nba_betting/.venv/lib/python3.8/site-packages/sklearn/pipeline.py\", line 348, in _fit\n",
      "    X, fitted_transformer = fit_transform_one_cached(\n",
      "  File \"/Users/Aaditya/git/ds4420_nba_betting/.venv/lib/python3.8/site-packages/joblib/memory.py\", line 349, in __call__\n",
      "    return self.func(*args, **kwargs)\n",
      "  File \"/Users/Aaditya/git/ds4420_nba_betting/.venv/lib/python3.8/site-packages/sklearn/pipeline.py\", line 893, in _fit_transform_one\n",
      "    res = transformer.fit_transform(X, y, **fit_params)\n",
      "  File \"/Users/Aaditya/git/ds4420_nba_betting/.venv/lib/python3.8/site-packages/sklearn/decomposition/_pca.py\", line 407, in fit_transform\n",
      "    U, S, Vt = self._fit(X)\n",
      "  File \"/Users/Aaditya/git/ds4420_nba_betting/.venv/lib/python3.8/site-packages/sklearn/decomposition/_pca.py\", line 457, in _fit\n",
      "    return self._fit_full(X, n_components)\n",
      "  File \"/Users/Aaditya/git/ds4420_nba_betting/.venv/lib/python3.8/site-packages/sklearn/decomposition/_pca.py\", line 471, in _fit_full\n",
      "    raise ValueError(\n",
      "ValueError: n_components='mle' is only supported if n_samples >= n_features\n",
      "\n",
      "  warnings.warn(some_fits_failed_message, FitFailedWarning)\n",
      "/Users/Aaditya/git/ds4420_nba_betting/.venv/lib/python3.8/site-packages/sklearn/model_selection/_search.py:969: UserWarning: One or more of the test scores are non-finite: [-2.28813426e+03 -1.93081435e+03 -2.28813426e+03 -1.93081435e+03\n",
      "             nan             nan             nan             nan\n",
      "             nan             nan             nan             nan\n",
      " -1.05944684e+03 -1.29273250e+03 -1.05943514e+03 -1.29169629e+03\n",
      " -6.34682328e+01 -3.20943756e+03 -5.82466729e+01 -3.21022563e+03\n",
      " -3.02605473e+01 -8.01921221e+03 -3.02742289e+01 -8.01714134e+03\n",
      " -2.58301690e+03 -2.16329901e+03 -2.58301690e+03 -2.16329901e+03\n",
      " -1.17172482e+07 -1.39032301e+07 -1.17172482e+07 -1.39032301e+07\n",
      " -3.51715376e+09 -8.68235529e+07 -3.51715376e+09 -8.68235529e+07]\n",
      "  warnings.warn(\n"
     ]
    }
   ],
   "source": [
    "logger.info(\n",
    "    \"Training UnsupervisedEnsemble with: %r\", [model_name for model_name in NBA_MODELS]\n",
    ")\n",
    "\n",
    "logging.info(\n",
    "    \"Using RandomForestRegressor as correction model and Ridge as weights model\"\n",
    ")\n",
    "unsupervised_ensemble = UnsupervisedEnsemble(\n",
    "    models=[_() for _ in NBA_MODELS.values()],\n",
    "    correction_learner=GridSearchCV(\n",
    "        estimator=RandomForestRegressor(),\n",
    "        cv=3,\n",
    "        param_grid=random_forest_params,\n",
    "        n_jobs=4,\n",
    "    ),\n",
    "    weight_learner=GridSearchCV(\n",
    "        estimator=Pipeline(\n",
    "            [\n",
    "                (\"scale\", RobustScaler()),\n",
    "                (\"poly\", PolynomialFeatures()),\n",
    "                (\"pca\", PCA()),\n",
    "                (\"ridge\", Ridge(fit_intercept=False)),\n",
    "            ]\n",
    "        ),\n",
    "        cv=3,\n",
    "        param_grid=ridge_params,\n",
    "        n_jobs=4,\n",
    "    ),\n",
    ")\n",
    "unsupervised_ensemble.fit(X_train, y_train)\n"
   ]
  },
  {
   "cell_type": "code",
   "execution_count": 37,
   "id": "a4f2dfde",
   "metadata": {},
   "outputs": [
    {
     "name": "stderr",
     "output_type": "stream",
     "text": [
      "INFO:nba_betting:correction model best params: {'ccp_alpha': 0, 'max_depth': 3, 'n_estimators': 100}\n",
      "INFO:nba_betting:weight model best params: {'pca': PCA(n_components=40), 'poly__degree': 3, 'ridge__tol': 0.001, 'scale': RobustScaler()}\n"
     ]
    }
   ],
   "source": [
    "logger.info(\n",
    "    \"correction model best params: %r\",\n",
    "    unsupervised_ensemble.correction_model.best_params_,\n",
    ")\n",
    "logger.info(\n",
    "    \"weight model best params: %r\",\n",
    "    unsupervised_ensemble.weight_learner.best_params_,\n",
    ")\n"
   ]
  },
  {
   "cell_type": "code",
   "execution_count": 38,
   "id": "e666e415",
   "metadata": {},
   "outputs": [
    {
     "name": "stderr",
     "output_type": "stream",
     "text": [
      "INFO:nba_betting:Training set score: 0.7973748974569319\n",
      "INFO:nba_betting:              precision    recall  f1-score   support\n",
      "\n",
      "           L       0.80      0.79      0.80      1219\n",
      "           W       0.79      0.80      0.80      1219\n",
      "\n",
      "    accuracy                           0.80      2438\n",
      "   macro avg       0.80      0.80      0.80      2438\n",
      "weighted avg       0.80      0.80      0.80      2438\n",
      "\n"
     ]
    }
   ],
   "source": [
    "logger.info(\n",
    "    \"Training set score: %s\",\n",
    "    accuracy_score(y_train, unsupervised_ensemble.predict(X_train)),\n",
    ")\n",
    "logger.info(classification_report(y_train, unsupervised_ensemble.predict(X_train)))\n"
   ]
  },
  {
   "cell_type": "code",
   "execution_count": 50,
   "id": "f175f4c7",
   "metadata": {},
   "outputs": [
    {
     "name": "stderr",
     "output_type": "stream",
     "text": [
      "INFO:nba_betting:Testing set score: 0.619979402677652\n",
      "INFO:nba_betting:              precision    recall  f1-score   support\n",
      "\n",
      "           L       0.62      0.64      0.63       971\n",
      "           W       0.62      0.60      0.61       971\n",
      "\n",
      "    accuracy                           0.62      1942\n",
      "   macro avg       0.62      0.62      0.62      1942\n",
      "weighted avg       0.62      0.62      0.62      1942\n",
      "\n"
     ]
    }
   ],
   "source": [
    "logger.info(\n",
    "    \"Testing set score: %s\",\n",
    "    accuracy_score(y_test, unsupervised_ensemble.predict(X_test)),\n",
    ")\n",
    "logger.info(classification_report(y_test, unsupervised_ensemble.predict(X_test)))\n"
   ]
  },
  {
   "cell_type": "code",
   "execution_count": 40,
   "id": "d23e861f",
   "metadata": {},
   "outputs": [
    {
     "data": {
      "image/png": "[encoded data removed]",
      "text/plain": [
       "<Figure size 432x288 with 2 Axes>"
      ]
     },
     "metadata": {
      "needs_background": "light"
     },
     "output_type": "display_data"
    }
   ],
   "source": [
    "plot_conf_mat(y_train, unsupervised_ensemble.predict(X_train))"
   ]
  },
  {
   "cell_type": "code",
   "execution_count": 41,
   "id": "d341cf67",
   "metadata": {},
   "outputs": [
    {
     "data": {
      "image/png": "[encoded data removed]",
      "text/plain": [
       "<Figure size 432x288 with 2 Axes>"
      ]
     },
     "metadata": {
      "needs_background": "light"
     },
     "output_type": "display_data"
    }
   ],
   "source": [
    "plot_conf_mat(y_test, unsupervised_ensemble.predict(X_test))"
   ]
  },
  {
   "cell_type": "code",
   "execution_count": null,
   "id": "0cf6e595",
   "metadata": {},
   "outputs": [],
   "source": []
  }
 ],
 "metadata": {
  "kernelspec": {
   "display_name": "Python 3 (ipykernel)",
   "language": "python",
   "name": "python3"
  },
  "language_info": {
   "codemirror_mode": {
    "name": "ipython",
    "version": 3
   },
   "file_extension": ".py",
   "mimetype": "text/x-python",
   "name": "python",
   "nbconvert_exporter": "python",
   "pygments_lexer": "ipython3",
   "version": "3.8.5"
  }
 },
 "nbformat": 4,
 "nbformat_minor": 5
}
